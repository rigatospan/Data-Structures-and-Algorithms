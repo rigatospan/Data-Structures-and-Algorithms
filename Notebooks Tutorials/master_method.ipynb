{
 "cells": [
  {
   "cell_type": "markdown",
   "metadata": {},
   "source": [
    "# Divide and Conquer Algorithm\n",
    "Given a problem of size $n$ devide the problem into $a$ subproblems each of size $n/b$, solve each one recursively by further devide it intil a base case (*conquer*) and combine the subproblems to form the solution for the original problem.\n",
    "\n",
    "![Working-of-Divide-and-Conquer-Algorithm.webp](Working-of-Divide-and-Conquer-Algorithm.webp)\n",
    "\n",
    "## Master Method\n",
    "The Master Method determines the time complexity of the total problem based on the characteristics of the particular devide and conquer paradimg.\n",
    "Each divide and conquer algorithm has the following characteristics:\n",
    "- $a$ is the number of problems that the original problem is devided into.\n",
    "- $b$ is the size of each of the sub-problems (Note that $a$ could be different than $b$)\n",
    "- a base case when the recursion is stoped when the size of the sub-problems reaches a minimum case\n",
    "- $C(n)$ is the time complexity for combining the $a$ subproblems \n",
    "- $D(n)$ is the tme complexity for dividing the problem of size $n$ into $a$ subproblems each of size $n/m$\n",
    "Then we can form the following recursion equation:\n",
    "$$\n",
    "T(n) = \n",
    "\\begin{cases}\n",
    "\\mathcal{\\Theta}(1) & \\quad , \\,\\, \\text{if $n$ smaller than a cutoff} \\\\\n",
    "a*T\\left(\\frac{n}{b}\\right)+D(n)+C(n) & \\quad , \\,\\, \\text{otherwise}\n",
    "\\end{cases}\n",
    "$$ \n",
    "The general solution to this recursion is called the *Master Method* and is given as:\n",
    "- let $\\epsilon = \\log_{b}a$\n",
    "- let $D(n)+C(n) = \\Theta(n^c)$ for some $c$\n",
    "- then we can prove that:\n",
    "$$\n",
    "T(n) = \n",
    "\\begin{cases}\n",
    "\\Theta(n^{\\epsilon}) \\,\\, &, \\,\\, \\text{if}\\,\\, \\epsilon>c \\\\\n",
    "\\Theta(n^{\\epsilon}\\log_2n) \\,\\, &, \\,\\, \\text{if}\\,\\, \\epsilon=c \\\\\n",
    "\\Theta(n^c) \\,\\, &, \\,\\, \\text{if}\\,\\, \\epsilon<c \n",
    "\n",
    "\\end{cases}\n",
    "$$ \n",
    "#### Examples of the Master Method\n",
    "\n",
    "For the merge-sort algorithm:\n",
    "- we divide an array of  size $n$ into two arrays $(a=2)$\n",
    "- each of half size of the original $(b=2)$.  \n",
    "- the divide step takes $\\mathcal{O}(1)$ and the combine step takes $\\mathcal{O}(n)$, so $c=1$. \n",
    "- $\\epsilon = \\log _b a = 1$ and so $c = \\epsilon =1$\n",
    "- this is the second case in master method and so the merge-sort algorithm runs in $\\mathcal{O}(n\\log_2n)$ time"
   ]
  },
  {
   "cell_type": "markdown",
   "metadata": {},
   "source": [
    "### Karatsuba's Multiplication Algorithm\n",
    "Given two integer $n_1,n_2$ we want to design an algorithm to calculate their product $n_1\\cdot n_2$ in an efficient way.\n",
    "- let $n$ be the number of binary digits of $n_1$, and $m$ the number of binary digits of $n_2$, and let $n>m$. \n",
    "- the traditional multiplication algorithm runs in $\\mathcal{O}(m(n+m))$"
   ]
  },
  {
   "cell_type": "code",
   "execution_count": 1,
   "metadata": {},
   "outputs": [],
   "source": [
    "def binary(n:int)-> list:\n",
    "    '''return a list of bits representing the binary form of an integer n in the forn [b_{n-1}, b_{n-2},..., b_0]\n",
    "    '''\n",
    "    \n",
    "    return [int(b) for b in bin(n)[2:]]\n",
    "\n",
    "def padd_left(a: list, n: int)-> list:\n",
    "    '''pad a bit-list representation a with zeros such that the list has n bits, but is the same number\n",
    "    '''\n",
    "    \n",
    "    return [0]*max((n-len(a)),0) + a\n",
    "\n",
    "def padd_right(a: list, n: int)-> list:\n",
    "    '''pad a bit-list representation a with zeros such that the list has n bits, but is the number a*2**(a-len(n))\n",
    "    '''\n",
    "    \n",
    "    return a+[0]*max((n-len(a)),0)\n",
    "\n",
    "def make_equal_size(a:list, b:list)-> list:\n",
    "    '''takes two bit-lists representations of integers and pads the smaller sized one with zeros\n",
    "    '''\n",
    "    n = max(len(a),len(b))\n",
    "    return padd_left(a,n), padd_left(b,n)\n",
    "\n",
    "def add(a_bin:list, b_bin:list)->list:\n",
    "\n",
    "    a_bin, b_bin = make_equal_size(a_bin, b_bin)\n",
    "\n",
    "    carry = 0 \n",
    "    c = [0]*len(a_bin)\n",
    "    for i in range(len(a_bin)-1,-1,-1):\n",
    "        c[i] = (a_bin[i]+b_bin[i]+carry)%2\n",
    "        carry = (a_bin[i]+b_bin[i]+carry)//2\n",
    "    # if the last carry is one then c has one more digit than a,b\n",
    "    if carry==1:\n",
    "        c = [1]+c\n",
    "\n",
    "    return c\n",
    "\n",
    "def subtr(a_bin:list, b_bin:list)->list:\n",
    "\n",
    "    a_bin, b_bin = make_equal_size(a_bin, b_bin)\n",
    "\n",
    "    carry = 0 \n",
    "    c = [0]*len(a_bin)\n",
    "    for i in range(len(a_bin)-1,-1,-1):\n",
    "        c[i] = (a_bin[i]- b_bin[i]-carry)%2\n",
    "        carry = int((a_bin[i]- b_bin[i]- carry)<0)\n",
    "    \n",
    "    return c\n",
    "\n",
    "def mult(a, b):\n",
    "    a_bin, b_bin = binary(a), binary(b)\n",
    "    a_bin, b_bin = make_equal_size(a_bin, b_bin)\n",
    "\n",
    "    mult_bin = [0]*(2*len(a_bin))\n",
    "    temp = a_bin\n",
    "    for j in range(len(a_bin)-1,-1,-1):\n",
    "        if b_bin[j]:\n",
    "            mult_bin = add(mult_bin, temp)\n",
    "        temp = padd_right(temp, len(temp)+1)\n",
    "    \n",
    "    return mult_bin"
   ]
  },
  {
   "cell_type": "code",
   "execution_count": 2,
   "metadata": {},
   "outputs": [
    {
     "data": {
      "text/plain": [
       "3"
      ]
     },
     "execution_count": 2,
     "metadata": {},
     "output_type": "execute_result"
    }
   ],
   "source": [
    "def make_int(b_bin:list):\n",
    "    return int('0b'+''.join(map(str,b_bin)), base=2)\n",
    "\n",
    "def find_power(n:int):\n",
    "    \n",
    "    k=0\n",
    "    while n>2**k:\n",
    "        k+=1\n",
    "    return k\n",
    "\n",
    "find_power(5)"
   ]
  },
  {
   "cell_type": "code",
   "execution_count": 10,
   "metadata": {},
   "outputs": [],
   "source": [
    "def prepare_karatsuba(n1: int, n2: int):\n",
    "    n1_bin, n2_bin = binary(n1), binary(n2)\n",
    "    n1_bin, n2_bin = make_equal_size(n1_bin, n2_bin)\n",
    "    n_bits = 2**find_power(len(n1_bin))\n",
    "    n1_bin, n2_bin = padd_left(n1_bin, n_bits), padd_left(n2_bin, n_bits)\n",
    "    \n",
    "    return n1_bin, n2_bin\n",
    "\n",
    "def devide_four_mul(a_bin, b_bin):\n",
    "    if len(a_bin)==1:\n",
    "        return [a_bin[0]*b_bin[0]]\n",
    "    n = len(a_bin)\n",
    "    a1 = a_bin[:n//2]\n",
    "    a2 = a_bin[n//2:]\n",
    "    b1 = b_bin[:n//2]\n",
    "    b2 = b_bin[n//2:]\n",
    "    # print(f'a1={a1}, a2={a2}, b1={b1}, b2={b2}')\n",
    "    p1 = devide_four_mul(a1, b1)\n",
    "    p4 = devide_four_mul(a2, b2)\n",
    "    p2 = devide_four_mul(a1, b2)\n",
    "    p3 = devide_four_mul(a2, b1)\n",
    "    # print(f'p1={p1}, p2={p2}, p3={p3}, p4={p4}')\n",
    "    \n",
    "    p1 = padd_right(p1, len(p1)+n)\n",
    "    p2 = padd_right(add(p2, p3), len(p2)+n//2)\n",
    "    # print(f'after padding')\n",
    "    # print(f'p1={p1}, p2+p3={p2} p4={p4}')\n",
    "\n",
    "    return add(add(p1, p2), p4)\n"
   ]
  },
  {
   "cell_type": "code",
   "execution_count": 9,
   "metadata": {},
   "outputs": [
    {
     "data": {
      "text/plain": [
       "(75454, 75582)"
      ]
     },
     "execution_count": 9,
     "metadata": {},
     "output_type": "execute_result"
    }
   ],
   "source": [
    "n1 , n2 = 323,234\n",
    "n1_b, n2_b = prepare_karatsuba(n1, n2)\n",
    "# print(n1_b, n2_b)\n",
    "m = devide_four_mul(n1_b, n2_b)\n",
    "# print(m)\n",
    "make_int(m) , n1*n2"
   ]
  },
  {
   "cell_type": "code",
   "execution_count": 148,
   "metadata": {},
   "outputs": [],
   "source": [
    "def karatsuba(a_bin, b_bin):\n",
    "    if len(a_bin)==1:\n",
    "        return [a_bin[0]*b_bin[0]]\n",
    "    n = len(a_bin)\n",
    "    a1 = a_bin[:n//2]\n",
    "    a2 = a_bin[n//2:]\n",
    "    b1 = b_bin[:n//2]\n",
    "    b2 = b_bin[n//2:]\n",
    "    # print(f'a1={a1}, a2={a2}, b1={b1}, b2={b2}')\n",
    "\n",
    "    p1 = karatsuba(a1, b1)\n",
    "    p4 = karatsuba(a2, b2)\n",
    "    a12, b12 = make_equal_size(add(a1,a2),add(b1,b2))\n",
    "    p = karatsuba(a12, b12)\n",
    "    p23 = subtr(subtr(p,p1), p4)\n",
    "    # print(f'p1={p1}, p={p}, p23={p23} p4={p4}')\n",
    "\n",
    "    p1 = padd_right(p1, len(p1)+n)\n",
    "    p23= padd_right(p23, len(p23)+n//2)\n",
    "    # print(f'after padding')\n",
    "    # print(f'p1={p1}, p2+p3={p23} p4={p4}')\n",
    "\n",
    "    return add(add(p1, p23), p4)"
   ]
  }
 ],
 "metadata": {
  "kernelspec": {
   "display_name": "Python 3",
   "language": "python",
   "name": "python3"
  },
  "language_info": {
   "codemirror_mode": {
    "name": "ipython",
    "version": 3
   },
   "file_extension": ".py",
   "mimetype": "text/x-python",
   "name": "python",
   "nbconvert_exporter": "python",
   "pygments_lexer": "ipython3",
   "version": "3.12.3"
  }
 },
 "nbformat": 4,
 "nbformat_minor": 2
}
