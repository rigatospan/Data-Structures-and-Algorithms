{
 "cells": [
  {
   "cell_type": "markdown",
   "metadata": {},
   "source": [
    "# Greedy algorithms\n",
    "\n",
    "A greedy algorithm solves an oprimization problem by making the best local choice for the current problem, leaving only one subproblem and combining it with the optimal solution to that subproblem. For a Greedy algorithm to apply to a problem the following must hold:\n",
    "- can cast the solution as a current best choice, the greedy choice, and one subproblem\n",
    "- greedy-choice property: the (global) optimal solution to the problem involves the (local) greedy choice, leaving one sub-problem\n",
    "- optimal substructure: the optimal solution is achived by combining the greedy choice and the optimal solution of the remaining subproblem\n",
    "\n",
    "#### Example\n",
    "Given tasks $S\\{a_0,a_1,\\dots,a_n\\}$ which have a starting and a finished time $s=\\{s_0,s_1,\\dots,s_{n-1} \\}\\,\\,,\\,\\,f=\\{f_0,f_1,\\dots,f_{n-1}\\}$ find the maximum numbers of tasks that can be scheduled to be compatible with each other, i.e. there is no overlapping between any two tasks."
   ]
  },
  {
   "cell_type": "code",
   "execution_count": 1,
   "metadata": {},
   "outputs": [],
   "source": [
    "def max_n(s: list, i: int, j:int):\n",
    "    if i == len(s):\n",
    "        return 0\n",
    "    s_i, f_i = s[i]\n",
    "    s_j, f_j = s[j]\n",
    "    if j!=-1 and  s_i<f_j:\n",
    "        return max_n(s, i+1, j)\n",
    "    \n",
    "    return max(max_n(s, i+1, j) , max_n(s, i+1, i)+1)"
   ]
  },
  {
   "cell_type": "code",
   "execution_count": 2,
   "metadata": {},
   "outputs": [],
   "source": [
    "def max_n_2(s: list, i,j):\n",
    "    '''is the set of task that are compatible with tasks i and j'''\n",
    "    \n",
    "    if j<i:\n",
    "        return 0\n",
    "    \n",
    "    return max([max_n_2(s, i,k) + 1 + max_n_2(s,k,j) for k in range(len(s)) if s[k][0]>=s[i][1] and s[k][1]<=s[j][0]] + [0])"
   ]
  },
  {
   "cell_type": "code",
   "execution_count": 3,
   "metadata": {},
   "outputs": [],
   "source": [
    "def memo(s: list):\n",
    "    k = len(s)\n",
    "    # table = [[0]*(k+1) for _ in range(k+1)]\n",
    "    # sol = [[0]*(k+1) for _ in range(k+1)]\n",
    "    table={}\n",
    "    sol = {}\n",
    "    for j in range(-1, k):\n",
    "        table[(k,j)] = 0\n",
    "    \n",
    "    for i in range(k-1, -1, -1):\n",
    "        for j in range(-1, i):\n",
    "            s_i, f_i = s[i]\n",
    "            s_j, f_j = s[j] \n",
    "            if j!=-1 and s_i<f_j:\n",
    "                table[i,j] , sol[i,j] = table[i+1,j] , False\n",
    "            else:\n",
    "                table[i,j] , sol[i,j] = max((table[i+1,j], False) , (table[i+1,i]+1, True) )  \n",
    "    \n",
    "    events = []\n",
    "    j = -1\n",
    "    for i in range(0,k):\n",
    "        if sol[i, j]==True:\n",
    "            events.append(i+1)\n",
    "            j = i\n",
    " \n",
    "    return table[0,-1] , events"
   ]
  },
  {
   "cell_type": "code",
   "execution_count": 4,
   "metadata": {},
   "outputs": [
    {
     "name": "stdout",
     "output_type": "stream",
     "text": [
      "maximum number of compatible task with the naive recursive method 4\n",
      "maximum number of compatible task with bottom-up method 4, and the task in order [1, 4, 8, 11]\n"
     ]
    }
   ],
   "source": [
    "s = [(1,4),(3,5),(0,6),(5,7),(3,9),(5,9),(6,10),(7,11),(8,12),(2,14),(12,16)]\n",
    "print(f'maximum number of compatible task with the naive recursive method {max_n(s,0,-1)}')\n",
    "# s_aux = [(-2,-2)]+s+[(100,101)]\n",
    "# k = len(s_aux)\n",
    "# print(f'maximum number of compatible task with the naive recursive method {max_n_2(s_aux,0,k-1)}')\n",
    "print(f'maximum number of compatible task with bottom-up method {memo(s)[0]}, and the task in order {memo(s)[1]}')\n"
   ]
  },
  {
   "cell_type": "code",
   "execution_count": 5,
   "metadata": {},
   "outputs": [],
   "source": [
    "def greedy(s: list):\n",
    "    # number of elements\n",
    "    k = len(s)\n",
    "    # make the first greedy choice\n",
    "    j = 0\n",
    "    # memoize the greedy choosen tasks, number them 1,2,...,k \n",
    "    tasks = [j+1]\n",
    "\n",
    "    for i in range(1,k):\n",
    "        # find the next element compatible with the last greedy element\n",
    "        if s[i][0]>=s[j][1]:\n",
    "            # make it the next greedy element\n",
    "            j = i\n",
    "            tasks.append(j+1)\n",
    "    \n",
    "    return tasks\n"
   ]
  },
  {
   "cell_type": "code",
   "execution_count": 6,
   "metadata": {},
   "outputs": [
    {
     "name": "stdout",
     "output_type": "stream",
     "text": [
      "the maximum number of compatible elements with the greedy method is 4 and those elements are [1, 4, 8, 11]\n"
     ]
    }
   ],
   "source": [
    "s = [(1,4),(3,5),(0,6),(5,7),(3,9),(5,9),(6,10),(7,11),(8,12),(2,14),(12,16)]\n",
    "print(f'the maximum number of compatible elements with the greedy method is {len(greedy(s))} and those elements are {greedy(s)}')"
   ]
  },
  {
   "cell_type": "markdown",
   "metadata": {},
   "source": [
    "### Hoffman's code\n",
    "Given a text with $N$ total characters from an alphabet $C=\\{c_1,c_2,\\dots,c_n\\}$ and frequencies on the text $F=\\{f_1,f_2,\\dots, f_n\\}$ find a binary character code, i.e. a map that each character is encoded by a binary sting (codeword), which is prefix free, i.e. the codeword are unique for each chareacter and the total length of the encoding bits is minimized.\n",
    "- fix-length endoding: each character is encoded by a codeword of the same length which is $\\lceil \\log_2 n \\rceil$\n",
    "- Hoffman's code: represent more frequent character with codewords of small length"
   ]
  },
  {
   "cell_type": "code",
   "execution_count": 7,
   "metadata": {},
   "outputs": [],
   "source": [
    "import heapq\n",
    "\n",
    "class node:\n",
    "    \n",
    "    def __init__(self, char: str, freq: int):\n",
    "        \n",
    "        self.left = None\n",
    "        self.right = None\n",
    "        self.parent = None\n",
    "        self.char = char\n",
    "        self.freq = freq\n",
    "        \n",
    "\n",
    "def hoffman_encoding(c: list[str], f: list[int]) -> dict[str:str]:\n",
    "    n = len(c)\n",
    "    # represent the nodes as frecunecy, character, left_child_character, right_child_character\n",
    "    nodes = [( freq, node(char,freq)) for (char,freq) in zip(c,f)]\n",
    "    heapq.heapify(nodes)\n",
    "    for i in range(0,n-1):\n",
    "        f1, node1 = heapq.heappop(nodes)\n",
    "        f2, node2 = heapq.heappop(nodes)\n",
    "        \n",
    "        new_node = node(node1.char+node2.char, node1.freq+node2.freq)\n",
    "        new_node.left = node1\n",
    "        new_node.right = node2\n",
    "        node1.parent = new_node\n",
    "        node2.parent = new_node\n",
    "        \n",
    "        heapq.heappush(nodes, (new_node.freq, new_node))\n",
    "    \n",
    "    return heapq.heappop(nodes)\n",
    "\n",
    "def leaves(root, codeword=''):\n",
    "    if root.left:\n",
    "        leaves(root.left, codeword+'0')\n",
    "    \n",
    "    if root.right:\n",
    "        leaves(root.right, codeword+'1')\n",
    "    \n",
    "    if root.left == root.right:\n",
    "        print(root.char, codeword)\n",
    "\n",
    "    return "
   ]
  },
  {
   "cell_type": "code",
   "execution_count": 8,
   "metadata": {},
   "outputs": [],
   "source": [
    "c = ['a','b','c','d','e','f']\n",
    "f = [45,13,12,16,9,5]\n",
    "f_root, root = hoffman_encoding(c,f)"
   ]
  },
  {
   "cell_type": "code",
   "execution_count": 9,
   "metadata": {},
   "outputs": [
    {
     "name": "stdout",
     "output_type": "stream",
     "text": [
      "a 0\n",
      "c 100\n",
      "b 101\n",
      "f 1100\n",
      "e 1101\n",
      "d 111\n"
     ]
    }
   ],
   "source": [
    "leaves(root)"
   ]
  },
  {
   "cell_type": "code",
   "execution_count": null,
   "metadata": {},
   "outputs": [],
   "source": []
  }
 ],
 "metadata": {
  "kernelspec": {
   "display_name": "Python 3",
   "language": "python",
   "name": "python3"
  },
  "language_info": {
   "codemirror_mode": {
    "name": "ipython",
    "version": 3
   },
   "file_extension": ".py",
   "mimetype": "text/x-python",
   "name": "python",
   "nbconvert_exporter": "python",
   "pygments_lexer": "ipython3",
   "version": "3.12.6"
  }
 },
 "nbformat": 4,
 "nbformat_minor": 2
}
