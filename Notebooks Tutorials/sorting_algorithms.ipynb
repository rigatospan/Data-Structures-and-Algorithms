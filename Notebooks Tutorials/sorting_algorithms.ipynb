{
 "cells": [
  {
   "cell_type": "markdown",
   "metadata": {},
   "source": [
    "# Basic Sorting Algorithms\n",
    "\n",
    "Probelm: given an array arr of length n, sort its values\\\n",
    "- insertion sort\n",
    "- Bubble sort\n",
    "- Selection sort\n",
    "- Merge sort\n",
    "- Heap sort\n",
    "- Quick sort\n",
    "- Count sort\n",
    "- Bucket sort\n",
    "- Radix sort"
   ]
  },
  {
   "cell_type": "markdown",
   "metadata": {},
   "source": [
    "## Insersion sort\n",
    "\n",
    "Algorithm: linearly iterate through all element in the array except the first one, i.e. $i = 1,2, ... n$ and sort the subarray $arr[:i]$ by looping through all its elements $j = i-1, i-2, ... 0$ and figure out the correct position for the element $arr[i]$."
   ]
  },
  {
   "cell_type": "code",
   "execution_count": 1,
   "metadata": {},
   "outputs": [],
   "source": [
    "def insertion_sort(arr: list) -> list:\n",
    "    # loop through the array i = 1, ..., n\n",
    "    for i in range(1, len(arr)):\n",
    "        # find the correct position of key\n",
    "        key = arr[i]\n",
    "        # loop through the sorted subarra arr[0:j-1]\n",
    "        j = i-1\n",
    "        while key < arr[j] and j>=0:\n",
    "            # shift elements bigger than key one position to the right\n",
    "            arr[j+1] = arr[j]\n",
    "            j-=1\n",
    "        # place key in its correct position\n",
    "        arr[j+1] = key\n",
    "    \n",
    "    return arr"
   ]
  },
  {
   "cell_type": "code",
   "execution_count": 3,
   "metadata": {},
   "outputs": [
    {
     "name": "stdout",
     "output_type": "stream",
     "text": [
      "[-2, 2, 5, 6, 7, 9, 10]\n"
     ]
    }
   ],
   "source": [
    "ar = [2,6,5,7,9,10,-2]\n",
    "print(insertion_sort(ar))"
   ]
  },
  {
   "cell_type": "markdown",
   "metadata": {},
   "source": [
    "- Average Complexity: $\\mathcal{O}(n^2)$ , at every step perform half swifts i/2. \n",
    "- Worst Complexity: $\\mathcal{O}(n^2)$ , array is in reversed order, so at evey step perform i swifts.\n",
    "- Best Complexity: $\\mathcal{O}(n)$ , when the array is already sorted, at every step perform 0 swifts.\n",
    "- Auxiliary Space: $\\mathcal{O}(1)$"
   ]
  },
  {
   "cell_type": "markdown",
   "metadata": {},
   "source": [
    "## Selection Sort\n",
    "Algorithm: \n",
    "- start at index $i=0$\n",
    "- iterate through the sub-array $A[i:]$, find the smallest element and place it at position i\n",
    "- at any momemt the sub-array $A[:i]$ is sorted\n",
    "- terminate when $i=\\text{len}(A)-1$"
   ]
  },
  {
   "cell_type": "code",
   "execution_count": 22,
   "metadata": {},
   "outputs": [],
   "source": [
    "def selection_sort_recursion(arr: list, index: int = 0):\n",
    "    '''Recursive implementation of the selection sort algorithm\n",
    "    \n",
    "    Return the sorted array.\n",
    "    '''\n",
    "\n",
    "    # terminate when we reach the last element\n",
    "    if index == len(arr)-1 or len(arr) == 0:\n",
    "        return arr\n",
    "    \n",
    "    smallest_elt, smallest_elt_index = arr[index], index\n",
    "    for i, elt in enumerate(arr[index:], start=index):\n",
    "        if elt < smallest_elt:\n",
    "            smallest_elt_index = i\n",
    "    \n",
    "    # exchange \n",
    "    arr[index] , arr[smallest_elt_index] = arr[smallest_elt_index] , arr[index]\n",
    "    return selection_sort_recursion(arr, index+1)  "
   ]
  },
  {
   "cell_type": "code",
   "execution_count": 23,
   "metadata": {},
   "outputs": [],
   "source": [
    "def selection_sort_iteration(arr: list):\n",
    "    '''Iterative implementation of the selection sort Algorithm.\n",
    "\n",
    "    Returns the sorted array\n",
    "    '''\n",
    "\n",
    "    n = len(arr)\n",
    "    # loop throught all elements\n",
    "    for i in range(n):\n",
    "        min_index = i \n",
    "        # find the min-element in the subarray arr[i:] \n",
    "        for j in range(i+1, n):\n",
    "            if arr[j] < arr[i]:\n",
    "                min_index = j\n",
    "        # place the min-element at arr[i]\n",
    "        arr[min_index], arr[i] = arr[i], arr[min_index]\n",
    "    \n",
    "    return arr\n"
   ]
  },
  {
   "cell_type": "code",
   "execution_count": 25,
   "metadata": {},
   "outputs": [
    {
     "name": "stdout",
     "output_type": "stream",
     "text": [
      "[-2, 2, 5, 6, 7, 9, 10]\n",
      "[-2, 2, 5, 6, 7, 9, 10]\n"
     ]
    }
   ],
   "source": [
    "ar = [2,6,5,7,9,10,-2]\n",
    "print(selection_sort_recursion(ar))\n",
    "ar = [2,6,5,7,9,10,-2]\n",
    "print(selection_sort_iteration(ar))"
   ]
  },
  {
   "cell_type": "markdown",
   "metadata": {},
   "source": [
    "- time complexity: $\\mathcal{O}(n^2)$\n",
    "- space complexity: $\\mathcal{O}(n)$, for the recursive calls, $\\mathcal{O}(1)$ for iterative implementaion"
   ]
  },
  {
   "cell_type": "markdown",
   "metadata": {},
   "source": [
    "## Buble sort\n",
    "- find the maximum element out of the first n element in the array by comparing it to the next element \n",
    "- iteratively do the above for the maximum, second maximum, etc. element"
   ]
  },
  {
   "cell_type": "code",
   "execution_count": 144,
   "metadata": {},
   "outputs": [],
   "source": [
    "def bubble_sort(arr: list):\n",
    "    '''Bubble sort the array and return it\n",
    "    '''\n",
    "\n",
    "    n = len(arr)\n",
    "\n",
    "    for i in range(n-2,-1, -1):\n",
    "        not_sorted = False\n",
    "        for j in range(0, i+1):\n",
    "            if arr[j] > arr[j+1]:\n",
    "                arr[j+1], arr[j] = arr[j], arr[j+1]\n",
    "                not_sorted = True\n",
    "        \n",
    "        # check if the array has already been sorted\n",
    "        if not not_sorted:\n",
    "            return arr\n",
    "\n",
    "    return arr"
   ]
  },
  {
   "cell_type": "code",
   "execution_count": 145,
   "metadata": {},
   "outputs": [
    {
     "name": "stdout",
     "output_type": "stream",
     "text": [
      "array= [3, 7, 3, 9, 12, 11]\n",
      "sorted arry= [3, 3, 7, 9, 11, 12]\n"
     ]
    }
   ],
   "source": [
    "arr = [3,7, 3, 9, 12, 11]\n",
    "print(f'array= {arr}')\n",
    "print(f'sorted arry= {bubble_sort(arr)}')"
   ]
  },
  {
   "cell_type": "markdown",
   "metadata": {},
   "source": [
    "- time complexity: \n",
    "  - best $\\mathcal{O}(n)$; when the array is already sorted and we use a sorted flag to check it\n",
    "  - average, worst: $\\mathcal{O}(n^2)$"
   ]
  },
  {
   "cell_type": "markdown",
   "metadata": {},
   "source": [
    "## Merge-Sort Algorithm\n",
    "\n",
    "Algorithm: Follow a Devide and Conquer Paradigm. Recursively devide the array into two subarrays, sort each one and cobine them into one sorted array."
   ]
  },
  {
   "cell_type": "code",
   "execution_count": 16,
   "metadata": {},
   "outputs": [],
   "source": [
    "def merge_sort(arr):\n",
    "    print(f'sorting array {arr}') \n",
    "    if len(arr) > 1:\n",
    "        # creating two new object: devide into the left and right subarrays\n",
    "\n",
    "        m = len(arr)//2\n",
    "        # left_arr = arr[:m]\n",
    "        # right_arr = arr[m:]\n",
    "        # merge_sort(left_arr)\n",
    "        # merge_sort(right_arr)\n",
    "\n",
    "        left_arr = merge_sort(arr[:m])\n",
    "        right_arr = merge_sort(arr[m:])\n",
    "\n",
    "\n",
    "\n",
    "        # combine the left and right arrays; linearly scan through each one\n",
    "        # compare left_arr[i] with right_arr[j], store the minimum to arr\n",
    "        # and move one position to the right to the subarray which had the min element\n",
    "        i,j  = 0,0\n",
    "        while i<len(left_arr) and j<len(right_arr):\n",
    "            if left_arr[i]<=right_arr[j]:\n",
    "                arr[i+j] = left_arr[i]\n",
    "                i+=1\n",
    "            else:\n",
    "                arr[i+j] = right_arr[j]\n",
    "                j+=1\n",
    "            \n",
    "        # the previous loop finishes when all elements of one of the two subarrays where considered\n",
    "        # so in one of the two subarrays there are remaining elements to be placed in arr\n",
    "        # they are in the correct sorted order \n",
    "        \n",
    "        while i < len(left_arr):\n",
    "            arr[i+j] = left_arr[i]\n",
    "            i+=1\n",
    "        while j < len(right_arr):\n",
    "            arr[i+j] = right_arr[j]\n",
    "            j+=1\n",
    "\n",
    "        print(f'the resulted sorted arr is {arr}')\n",
    "\n",
    "    return arr"
   ]
  },
  {
   "cell_type": "code",
   "execution_count": 17,
   "metadata": {},
   "outputs": [
    {
     "name": "stdout",
     "output_type": "stream",
     "text": [
      "sorting array [2, 6, 5, 7]\n",
      "sorting array [2, 6]\n",
      "sorting array [2]\n",
      "sorting array [6]\n",
      "the resulted sorted arr is [2, 6]\n",
      "sorting array [5, 7]\n",
      "sorting array [5]\n",
      "sorting array [7]\n",
      "the resulted sorted arr is [5, 7]\n",
      "the resulted sorted arr is [2, 5, 6, 7]\n",
      "[2, 5, 6, 7]\n"
     ]
    }
   ],
   "source": [
    "ar = [2,6,5,7]\n",
    "print(merge_sort(ar))"
   ]
  },
  {
   "cell_type": "markdown",
   "metadata": {},
   "source": [
    "- Average, Best, Worst Complexity: $\\mathcal{O}(n\\log_2(n))$ \n",
    "- Auxiliary Space: $\\mathcal{O}(n)$"
   ]
  },
  {
   "cell_type": "markdown",
   "metadata": {},
   "source": [
    "## Quick Sort Algorithm\n",
    "Quick sort is a devide and conquer sorting algorithm tha also adds some stochssticity in the algorithm. The algorithm works as follows:\n",
    "- at any moment partition the sub-array $arr[low:high+1]$ around a pivot element $p$ as:\n",
    "  - randomly choose a pivot element $p$ from the array $arr[low:high+1]$ and place it at the end, i.e. at position $high$.\n",
    "  - maintain two sets in the subarray: $arr[low:i+1]$ will contain elements smaller than p and $arr[i+1:high+1]$ will contain elements bigger than $p$.\n",
    "  - initialize $i$ to $low-1$.\n",
    "  - iteratively, $j=low, ..., high$, compare each element $arr[j]$ with $p$.\n",
    "  - if it is smaller or equal than $p$ increase $i$ by one to point it temporarely at the first bigger than $p$ element and exchange $arr[i]$ with $arr[j]$.\n",
    "  - it is crutial to include the equal elements, otherwise $p$ will not end up in its correct final position and we will be stucked in a endless recursion. \n",
    "  - now $i$ points to the position of the last, smaller than p element.\n",
    "  - $i-low+1$ is the number of elements smaller than p.\n",
    "  - after iterating through all elements in the subarray,  \n",
    "    $i$ points to the position of the last smaller than p element.\n",
    "  - exchange p with the first bigger than p element, i.e. $arr[high]$ with $arr[i+1]$\n",
    "  - subarray has the form $[s_{low},s_{low+1},\\dots,s_{i},p, b_{i+2},..., b_{high}] $\n",
    "- p now is in its correct sorted final position $i+1$.\n",
    "- recursively call partion(arr, low, high) on the sub-array $arr[low:i+1]$ and $arr[i+2, high]$\n",
    "- stop the recursion if the sub-array has at most one element, i.e $low\\ge hight$."
   ]
  },
  {
   "cell_type": "code",
   "execution_count": 3,
   "metadata": {},
   "outputs": [],
   "source": [
    "from random import randint\n",
    "\n",
    "def quick_sort(arr, low: int = 0, high: int = -1):\n",
    "    '''Quick sort the array and returns it \n",
    "    '''\n",
    "\n",
    "    if high == -1:\n",
    "        high = len(arr)-1\n",
    "    \n",
    "    # stop recursion if the subarray containts at most one element\n",
    "    if low<high:\n",
    "        # partion around a random pivot, pivot will be placed in its final position\n",
    "        pivot_final_index = partition(arr, low, high)\n",
    "        # quick sort the  left and right subarray of the pivot's final position\n",
    "        quick_sort(arr, low, pivot_final_index-1)\n",
    "        quick_sort(arr, pivot_final_index+1, high)\n",
    "\n",
    "    return arr\n",
    "\n",
    "\n",
    "def partition(arr: list, low: int, high: int):\n",
    "    '''partition the subarray arr[low:high+1] around a random pivot element\n",
    "    and returns the position of the pivot\n",
    "    '''\n",
    "    \n",
    "    # randomly choose a pivot from low to higt, including both ends\n",
    "    pivot_index = randint(low, high)\n",
    "\n",
    "    # place the pivot at hte end of the subarray\n",
    "    arr[high], arr[pivot_index] = arr[pivot_index], arr[high]\n",
    "    \n",
    "    # initialize i such that there are no elements smaller than p\n",
    "    i = low-1\n",
    "    # iterate through all elements except the pivot, which is last now\n",
    "    for j in range(low, high):\n",
    "        # compare each element with the pivot\n",
    "        if arr[j]<=arr[high]:\n",
    "            # increase the position of the last, smaller than p, element\n",
    "            i+=1\n",
    "            # exchange with the previous element, that is the first, bigger than p, element\n",
    "            arr[i], arr[j] = arr[j], arr[i]\n",
    "    \n",
    "    # exhange the pivot with the first bigger than pivot element\n",
    "    arr[i+1], arr[high] = arr[high], arr[i+1]\n",
    "\n",
    "    # return the final position of the pivot\n",
    "    return i+1\n"
   ]
  },
  {
   "cell_type": "code",
   "execution_count": 132,
   "metadata": {},
   "outputs": [
    {
     "name": "stdout",
     "output_type": "stream",
     "text": [
      "array=[9, 8, 7, 1, 2, 3, 6, 5, 4]\n",
      "sorted array=[1, 2, 3, 4, 5, 6, 7, 8, 9]\n"
     ]
    }
   ],
   "source": [
    "a = [9,8,7,1,2,3,6,5,4]\n",
    "print(f'array={a}')\n",
    "quick_sort(a)\n",
    "print(f'sorted array={a}')"
   ]
  },
  {
   "cell_type": "code",
   "execution_count": 133,
   "metadata": {},
   "outputs": [],
   "source": [
    "def quick_select(arr: list, k: int, low: int = 0, high: int =-1):\n",
    "    '''Given an array arr, find the k-est smaller element.\n",
    "    '''\n",
    "    # check k compared to array\n",
    "    if not 0<k<=len(arr):\n",
    "        return 'there are fewer elements'\n",
    "    \n",
    "    # initial consider the whole array\n",
    "    if high == -1:\n",
    "        high = len(arr)-1\n",
    "\n",
    "    # find the final position of a random pivot\n",
    "    pivot_index = partition(arr, low, high)\n",
    "    \n",
    "    # if it is the desired position stop; else call partition on the lower/upper subarray\n",
    "    if pivot_index == k-1:\n",
    "        pronantiation = {1:'first', 2:'second', 3:'third', 4:'fourd'}\n",
    "        word = pronantiation[k] if k in pronantiation else f'{k}-th'\n",
    "        return f'the {word} smaller element is {arr[pivot_index]}'\n",
    "    \n",
    "    elif pivot_index>k-1:\n",
    "        # the k-est smaller element is in the left sub-array\n",
    "        return quick_select(arr, k, low, pivot_index-1)\n",
    "    else:\n",
    "        # the k-est smaller element is in the right sub-array; \n",
    "        # there are pivot_index number of elements in the left subarray, including the pivot\n",
    "        # so it is the k-pivot_index smallest element in the right subarray \n",
    "        return quick_select(arr, k, pivot_index+1, high)\n"
   ]
  },
  {
   "cell_type": "code",
   "execution_count": 134,
   "metadata": {},
   "outputs": [
    {
     "data": {
      "text/plain": [
       "'the fourd smaller element is 1'"
      ]
     },
     "execution_count": 134,
     "metadata": {},
     "output_type": "execute_result"
    }
   ],
   "source": [
    "a = [-1,0,-2,1,7,4]\n",
    "quick_select(a, 4)"
   ]
  },
  {
   "cell_type": "markdown",
   "metadata": {},
   "source": [
    "- a partition takes n operations since it scans through elements in the array\n",
    "- for quick sort the best and average scenario is when the pivot seperate the array into two subarray of roughly the same size. Then we need $\\log_2(n)$ recursive calls to complete the sort and each call takes $\\mathcal{O}(n)$\n",
    "- the worst case is when at each recursion we choose the smallest or the biggest remaining element leading to $n-1$ recursive calls.\n",
    "- for the space in the average and best case we make $\\log_2n$ recursive calls, while in the worst case we make $n$.\n",
    "- for the quick select algorithm, in the worst case we have to make $n$ recursive calls, \n",
    "but in the best and average case we only call the subarray that contains the k-st smallet number, so:\n",
    "  - at each recursion we reduce the size on average by half $(b=2)$ \n",
    "  - but we only have one sub-problem to solve $(a=1)$\n",
    "  - and we conquer the problem in $\\Theta(n)$, $(c=1)$. \n",
    "  - so from the master method we have:\n",
    "  $$ T(n) = T(n/2)+\\Theta(n) \\,\\, , \\,\\, \\epsilon = \\log_ba=0<c \\,\\, \\rightarrow \\,\\, T(n) = \\Theta(n)\\$$\n",
    "\n",
    "|operation | Best, Average, Worst Time | Space|\n",
    "|----------|------|------|\n",
    "|partition |$\\mathcal{O}(n)$|$\\mathcal{O}(1)$|\n",
    "|quicksort |$\\mathcal{O}(n\\log_2n)$,$\\mathcal{O}(n\\log_2n)$,$\\mathcal{O}(n^2)$|$\\mathcal{O}(\\log_2n)$,$\\mathcal{O}(\\log_2n)$,$\\mathcal{O}(n)$|\n",
    "|quickselect |$\\mathcal{O}(n)$,$\\mathcal{O}(n)$,$\\mathcal{O}(n^2)$|$\\mathcal{O}(\\log_2n), \\mathcal{O}(n)$|"
   ]
  },
  {
   "cell_type": "markdown",
   "metadata": {},
   "source": [
    "### Count, Radix and Bucket sort\n",
    "- All the previous algorithms are comparison algorithms which we call them *comparison sorts*. \n",
    "- All comparison sort algorithms they must make $\\mathcal{O}(n\\log n) $ comparisons in the worst case. This can be proven easily by considering a comparison tree. The leaves of the tree must bwe a permutation of the original series of numbers, and they are $n!$. A tree of heigh $h$ has at most $2^h$ leaves and so $$ n!\\le 2^h \\rightarrow h\\ge \\log(n!) = \\mathcal{\\Omega}(n\\log n) $$\n",
    "- Count, Radix and Bucket sort are sorting algorithms that run in linear time"
   ]
  },
  {
   "cell_type": "markdown",
   "metadata": {},
   "source": [
    "### Counting sort\n",
    "Given an array of integers that we know their range, i.e. the maximum is k, we can sort them in linear time by counting the times of appearence of each one and sroring it in an array of size k.\n",
    "- initialize extra arrays B,C of size k and n respectively\n",
    "- scan through each integer n in arr and increase B[n] by one\n",
    "- scan through C[k] and count the number of previous integers  \n",
    " \n",
    "The complexity of counting sort algorithm is:\n",
    "- $\\mathcal{O}(n+k)$ for the time complexity\n",
    "- $\\mathcal{O}(n+k)$ for the space complexity"
   ]
  },
  {
   "cell_type": "code",
   "execution_count": 10,
   "metadata": {},
   "outputs": [],
   "source": [
    "def counting_sort(arr: list[int] , k: int)-> list[int]:\n",
    "    '''Count sort implementation of non-negative integers of at most k'''\n",
    "    n = len(arr)\n",
    "    arr_sorted = [None]*n\n",
    "    # auxilary array to count the number of appearence of each number in arr\n",
    "    count = [0]*(k+1)\n",
    "    \n",
    "    for number in arr:\n",
    "        count[number]+=1\n",
    "        \n",
    "    position = 0 \n",
    "    for number, times in enumerate(count):\n",
    "        for p in range(position, position + times):\n",
    "            arr_sorted[p] = number\n",
    "            \n",
    "        position+=times\n",
    "    \n",
    "    return arr_sorted"
   ]
  },
  {
   "cell_type": "code",
   "execution_count": 9,
   "metadata": {},
   "outputs": [
    {
     "data": {
      "text/plain": [
       "[1, 2, 3, 4, 4, 5, 5, 6, 6, 6, 7, 7, 8, 9]"
      ]
     },
     "execution_count": 9,
     "metadata": {},
     "output_type": "execute_result"
    }
   ],
   "source": [
    "a = [9,8,7,1,2,3,6,5,4,4,5,6,6,7]\n",
    "counting_sort(a, 9)"
   ]
  },
  {
   "cell_type": "code",
   "execution_count": null,
   "metadata": {},
   "outputs": [],
   "source": []
  }
 ],
 "metadata": {
  "kernelspec": {
   "display_name": "Python 3",
   "language": "python",
   "name": "python3"
  },
  "language_info": {
   "codemirror_mode": {
    "name": "ipython",
    "version": 3
   },
   "file_extension": ".py",
   "mimetype": "text/x-python",
   "name": "python",
   "nbconvert_exporter": "python",
   "pygments_lexer": "ipython3",
   "version": "3.12.5"
  }
 },
 "nbformat": 4,
 "nbformat_minor": 2
}
