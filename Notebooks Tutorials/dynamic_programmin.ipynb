{
 "cells": [
  {
   "cell_type": "markdown",
   "metadata": {},
   "source": [
    "# Dynamic Programming\n",
    "- Similar to divide and conquer, dynamic programming solve a problem by compining solotions of subproblems. \n",
    "- However, in divide and conquer each subproblem is disjoint from the other, while in dynamic programming the subproblems overlap.\n",
    "- Dynamic programming solves each subproblems, stores it and use it when it appears again in bigger-sized subproblems\n",
    "- DP applies often to oprimization problems\n",
    "- those problem has many solutions, but we want to find a solution with the optimal value.  \n",
    "  \n",
    "To develop a dynamic-protgramming algorithm we follow the four steps:\n",
    "- Characterize the structure of an optimal solution, optimal substructure-> optimal solution incorporate optimal solutions to related subproblems\n",
    "- Recursively define the value of an optimal solution\n",
    "- compute the value of an optimal solution, typically in a bottom-up fashion\n",
    "- construct an optimal solution from computed information."
   ]
  },
  {
   "cell_type": "markdown",
   "metadata": {},
   "source": [
    "Consider the cut-rod problem: Given a rod of length $L$ find a sequeance of cuts from the avaliable cuts $\\{l_1,l_2,\\cdots, l_n\\}$ corresponding to prices $\\{p_1,p_2,\\cdots,p_n\\}$ such that the total price is maximized:\n",
    "$$ V = \\max_{\\{n_i\\}}\\{\\sum\\limits_{i=1}^{n} n_i\\cdot p_i \\} \\,\\,\\, , \\text{such that} \\,\\,\\,  L = \\sum\\limits_{i=1}^{n}n_i\\cdot l_i +w \\,\\,\\, \\text{with} \\,\\,\\, w>0 \\,\\, \\text{and} \\,\\, n_i\\in \\mathbb{N}$$\n",
    "\n",
    "- Naive Recurnce: \n",
    "  mavalue(L, cuts, prices): \n",
    "   - if $L=0$: return $0$\n",
    "   - if $L<0$: return $-\\infin$\n",
    "   - max_val = 0\n",
    "   - for $l_i\\in$ cuts:\n",
    "      - q = max(q, maxvalue($L-l_i$, cuts, prices) )\n",
    "   - return max_val  \n",
    "   \n",
    "However, we solve the same sub-problem every time it appears and the time complexity is $\\mathcal{O}(2^L)$\n",
    "- Top-Down Approach and Memoization:  \n",
    "every time we solve a sub-problem store its optimal value on an array or a hash-table and if the subproblem appears again just recover its solution.  \n",
    "We can also store the cut that corresponds to the optimal value, if we want also to find the optimal cut sequence as well as the optimal value\n",
    "- Bottom-UP Approach:  \n",
    "when the solution to a subproblem depends only on solving smaller-sized subproblems then we can solve the subproblems in size-order from smallest to the original.\n",
    "- the time complexity for both top-down and bottom-up for the rod-cutting problem is $\\mathcal{O}(L^2)$, but they use extra space $\\mathcal{O}(2L)$"
   ]
  },
  {
   "cell_type": "code",
   "execution_count": 25,
   "metadata": {},
   "outputs": [],
   "source": [
    "def maxvalue(l, sizes, prices):\n",
    "    global t\n",
    "    t+=1\n",
    "    \n",
    "    if l==0:\n",
    "        return 0 \n",
    "    if l<0:\n",
    "        return float('-inf')\n",
    "    \n",
    "    return max([0]+[maxvalue(l-li, sizes, prices)+pi for (li,pi) in zip(sizes,prices)])"
   ]
  },
  {
   "cell_type": "code",
   "execution_count": 62,
   "metadata": {},
   "outputs": [
    {
     "name": "stdout",
     "output_type": "stream",
     "text": [
      "26 1729\n"
     ]
    }
   ],
   "source": [
    "L = 10\n",
    "sizes =  [ 1, 2, 3, 4]\n",
    "prices = [ 1, 5, 8, 9]\n",
    "t = 0\n",
    "print(maxvalue(L,sizes, prices), t)"
   ]
  },
  {
   "cell_type": "code",
   "execution_count": 59,
   "metadata": {},
   "outputs": [],
   "source": [
    "def maxvalue_top_down(l: int, cuts: list, prices: list):\n",
    "    # initialize the memoized list for optimal values and optimal cut for every possible length\n",
    "    optimal_values = [float('-inf')]*(l+1)\n",
    "    optimal_cuts = [float('-inf')]*(l+1)\n",
    "\n",
    "    # set the value and cut for a length 0 to 0\n",
    "    optimal_values[0] = optimal_cuts[0] = 0\n",
    "\n",
    "    # call the recurrence\n",
    "    optimal_val = _maxvalue_top_down(l, optimal_values, optimal_cuts, cuts, prices)\n",
    "\n",
    "    # print the optimal cuts\n",
    "    path = [l]\n",
    "    length = l \n",
    "    while optimal_cuts[length]>0:\n",
    "        length -= optimal_cuts[length]\n",
    "        path.append(length)\n",
    "    print(f'The optimal cuts are {','.join(str(length) for length in path)} and optimal value {optimal_values[-1]}')\n",
    "\n",
    "    return optimal_val, optimal_values, optimal_cuts\n",
    "\n",
    "def _maxvalue_top_down(l: int, optimal_values: list, optimal_cuts: list, cuts: list, prices: list):\n",
    "    # check if there is no cut -> waste\n",
    "    if l<0: \n",
    "        return float('-inf')\n",
    "    \n",
    "    # check if sub-problem for length l is already solved, includes the l=0 case\n",
    "    if optimal_values[l]>=0:\n",
    "        return optimal_values[l]\n",
    "\n",
    "    \n",
    "    # find the max_value and the corresponding cut, consider also the 0 value in case of all cuts leading to a waste\n",
    "    # in case of a tie for the optimal value of two cuts, keep the bigger cut\n",
    "    max_val, max_cut = max([(0,0)]+[(_maxvalue_top_down(l-li, optimal_values, optimal_cuts, cuts, prices)+pi, li) for (li,pi) in zip(cuts, prices)])\n",
    "\n",
    "    # memoize the optimal solution\n",
    "    optimal_values[l] = max_val\n",
    "    optimal_cuts[l] = max_cut\n",
    "\n",
    "    return max_val"
   ]
  },
  {
   "cell_type": "code",
   "execution_count": 60,
   "metadata": {},
   "outputs": [
    {
     "name": "stdout",
     "output_type": "stream",
     "text": [
      "The optimal cuts are 30,0 and optimal value 3.1\n",
      "The optimal cuts are 50,20,19,18,17,16,15,14,13,12,11,10,9,8,7,6,5,4,3,2,1,0 and optimal value 5.1000000000000005\n",
      "The optimal cuts are 100,25,24,23,22,21,20,19,18,17,16,15,14,13,12,11,10,9,8,7,6,5,4,3,2,1,0 and optimal value 10.7\n",
      "The optimal cuts are 130,55,25,24,23,22,21,20,19,18,17,16,15,14,13,12,11,10,9,8,7,6,5,4,3,2,1,0 and optimal value 13.8\n",
      "The optimal cuts are 300,225,150,75,0 and optimal value 32.8\n"
     ]
    }
   ],
   "source": [
    "sizes =  [ 1, 3, 5, 10, 30, 50, 75]\n",
    "prices = [ 0.1, 0.2, 0.4, 0.9, 3.1, 5.1, 8.2]\n",
    "for L in (30,50,100,130, 300):\n",
    "    maxvalue_top_down(L, sizes, prices)"
   ]
  },
  {
   "cell_type": "code",
   "execution_count": 49,
   "metadata": {},
   "outputs": [],
   "source": [
    "def maxvalue_bottom_up(l: int, cuts: list, prices: list):\n",
    "    # initialize the memoized list for optimal values and optimal cut for every possible length\n",
    "    optimal_values = [0]*(l+1)\n",
    "    optimal_cuts = [0]*(l+1)\n",
    "    \n",
    "    # consider all sizes for the rod, staring at 1, 2, ..., l\n",
    "    for l_size in range(1, l+1):\n",
    "        # find the optimal value and the corresponding optimal cut for the rod of size l_size, add also the 0 value in case of waste\n",
    "        max_val, max_cut = max([(0,0)] + [(optimal_values[l_size-li] + pi, li) for (li, pi) in zip(cuts, prices) if l_size-li>=0] )\n",
    "        \n",
    "        # memoize the optimal solution\n",
    "        optimal_values[l_size] = max_val\n",
    "        optimal_cuts[l_size] = max_cut\n",
    "\n",
    "    # print the optimal cuts\n",
    "    path = [l]\n",
    "    length = l \n",
    "    while optimal_cuts[length]>0:\n",
    "        length -= optimal_cuts[length]\n",
    "        path.append(length)\n",
    "    print(f'The optimal cuts are {','.join(str(length) for length in path)} and optimal value {optimal_values[-1]}')\n",
    "\n",
    "    return  optimal_values, optimal_cuts"
   ]
  },
  {
   "cell_type": "code",
   "execution_count": 61,
   "metadata": {},
   "outputs": [
    {
     "name": "stdout",
     "output_type": "stream",
     "text": [
      "The optimal cuts are 30,0 and optimal value 3.1\n",
      "The optimal cuts are 50,20,19,18,17,16,15,14,13,12,11,10,9,8,7,6,5,4,3,2,1,0 and optimal value 5.1000000000000005\n",
      "The optimal cuts are 100,25,24,23,22,21,20,19,18,17,16,15,14,13,12,11,10,9,8,7,6,5,4,3,2,1,0 and optimal value 10.7\n",
      "The optimal cuts are 130,55,25,24,23,22,21,20,19,18,17,16,15,14,13,12,11,10,9,8,7,6,5,4,3,2,1,0 and optimal value 13.8\n",
      "The optimal cuts are 300,225,150,75,0 and optimal value 32.8\n"
     ]
    }
   ],
   "source": [
    "sizes =  [ 1, 3, 5, 10, 30, 50, 75]\n",
    "prices = [ 0.1, 0.2, 0.4, 0.9, 3.1, 5.1, 8.2]\n",
    "for L in (30,50,100,130, 300):\n",
    "    maxvalue_bottom_up(L, sizes, prices)"
   ]
  },
  {
   "cell_type": "markdown",
   "metadata": {},
   "source": [
    "### Different Dynamic Approach\n",
    "For a given rod-length $L$ Instead of finding the maximum value of all possible cuts, find the maximum value of all possible number of cuts of length $l_1$, i.e $n_1 = 0,1,\\dots, \\lfloor L/l_1 \\rfloor$, which will depend on the maximum value of all possible number of cuts of length $l_2$ for the rod-length of $L-n_1\\cdot l_1$, $n_2 = 0,1, \\cdots, \\lfloor L/l_2 \\rfloor$ and so on.  \n",
    "So consider the following notation:\n",
    " - For a rod of length $L$, \n",
    " - avaliable cuts $c= \\{l_1,l_2,\\cdots,l_k\\}$ \n",
    " - and prices $p=\\{p_1,p_2,\\cdots,p_k\\}$, \n",
    " - let $i=1,\\cdots, k$ be the index numbering the avaliable cuts.  \n",
    " - denote $n_i = 0,1,\\dots, k_i \\equiv \\lfloor L/l_i \\rfloor $  \n",
    " - such that $L = \\sum\\limits_{i=1}^{k}n_i\\cdot l_i + w$.   \n",
    "Simalar to previously we can use a naive recursive approacn, or a bottom-up approach"
   ]
  },
  {
   "cell_type": "code",
   "execution_count": 15,
   "metadata": {},
   "outputs": [],
   "source": [
    "def max_value_n(l: int, i: int, cuts: list, prices: list):\n",
    "    if l<0:\n",
    "        return float('-inf')\n",
    "    if l==0:\n",
    "        return 0\n",
    "    if i>=len(cuts):\n",
    "        return 0\n",
    "    ki = int(l/cuts[i])\n",
    "    if ki==0:\n",
    "        return 0\n",
    "    return max([0]+[max_value_n(l-ni*cuts[i] , i+1, cuts, prices) +ni*prices[i] for ni in range(ki+1)])"
   ]
  },
  {
   "cell_type": "code",
   "execution_count": 17,
   "metadata": {},
   "outputs": [
    {
     "name": "stdout",
     "output_type": "stream",
     "text": [
      "max value for rod of length 30 is 3.1\n",
      "max value for rod of length 50 is 5.1\n",
      "max value for rod of length 100 is 10.7\n",
      "max value for rod of length 130 is 13.799999999999999\n",
      "max value for rod of length 300 is 32.8\n"
     ]
    }
   ],
   "source": [
    "sizes =  [ 1, 3, 5, 10, 30, 50, 75]\n",
    "prices = [ 0.1, 0.2, 0.4, 0.9, 3.1, 5.1, 8.2]\n",
    "for L in (30,50,100, 130, 300):\n",
    "    print(f'max value for rod of length {L} is {max_value_n(L, 0,sizes, prices)}')"
   ]
  },
  {
   "cell_type": "code",
   "execution_count": 46,
   "metadata": {},
   "outputs": [],
   "source": [
    "def bottom_up_n(l: int, cuts: list, prices: list):\n",
    "    k = len(sizes)\n",
    "    values = []\n",
    "    numbers = []\n",
    "    for i in range(l+1):\n",
    "        values.append([0]*(k+1))\n",
    "        numbers.append([-1]*(k))\n",
    "        \n",
    "    for l in range(l+1):\n",
    "        for i in range(k-1,-1,-1):\n",
    "            ki = int(l/cuts[i])\n",
    "            max_val, max_val_ni = max([(0, -1)]+[(values[l-ni*cuts[i]][i+1] +ni*prices[i], ni) for ni in range(ki+1) ])\n",
    "            values[l][i] = max_val\n",
    "            numbers[l][i] = max_val_ni\n",
    "    \n",
    "    optimal_cut_numbers = []\n",
    "    length = l\n",
    "    for i in range(k):\n",
    "        ni = numbers[length][i]\n",
    "        optimal_cut_numbers.append(ni)\n",
    "        length = length-ni*cuts[i]        \n",
    "    \n",
    "    print(optimal_cut_numbers)\n",
    "    opt_cuts_stinrg = ', '.join([str(ni)+' cuts of size '+str(cuts[i]) for i,ni in enumerate(optimal_cut_numbers) if ni>0])\n",
    "    print(f'the optimal number of cuts for rod-length of {l} are: {opt_cuts_stinrg} with optimal value {values[l][0]}')\n",
    "    \n",
    "    return values[l][0]"
   ]
  },
  {
   "cell_type": "code",
   "execution_count": 47,
   "metadata": {},
   "outputs": [
    {
     "name": "stdout",
     "output_type": "stream",
     "text": [
      "[0, 0, 0, 0, 1, 0, 0]\n",
      "the optimal number of cuts for rod-length of 30 are: 1 cuts of size 30 with optimal value 3.1\n",
      "[20, 0, 0, 0, 1, 0, 0]\n",
      "the optimal number of cuts for rod-length of 50 are: 20 cuts of size 1, 1 cuts of size 30 with optimal value 5.1\n",
      "[25, 0, 0, 0, 0, 0, 1]\n",
      "the optimal number of cuts for rod-length of 100 are: 25 cuts of size 1, 1 cuts of size 75 with optimal value 10.7\n",
      "[25, 0, 0, 0, 1, 0, 1]\n",
      "the optimal number of cuts for rod-length of 130 are: 25 cuts of size 1, 1 cuts of size 30, 1 cuts of size 75 with optimal value 13.799999999999999\n",
      "[0, 0, 0, 0, 0, 0, 4]\n",
      "the optimal number of cuts for rod-length of 300 are: 4 cuts of size 75 with optimal value 32.8\n"
     ]
    }
   ],
   "source": [
    "sizes =  [ 1, 3, 5, 10, 30, 50, 75]\n",
    "prices = [ 0.1, 0.2, 0.4, 0.9, 3.1, 5.1, 8.2]\n",
    "for L in (30,50,100, 130, 300):\n",
    "    bottom_up_n(L, sizes, prices)"
   ]
  }
 ],
 "metadata": {
  "kernelspec": {
   "display_name": "Python 3",
   "language": "python",
   "name": "python3"
  },
  "language_info": {
   "codemirror_mode": {
    "name": "ipython",
    "version": 3
   },
   "file_extension": ".py",
   "mimetype": "text/x-python",
   "name": "python",
   "nbconvert_exporter": "python",
   "pygments_lexer": "ipython3",
   "version": "3.12.5"
  }
 },
 "nbformat": 4,
 "nbformat_minor": 2
}
