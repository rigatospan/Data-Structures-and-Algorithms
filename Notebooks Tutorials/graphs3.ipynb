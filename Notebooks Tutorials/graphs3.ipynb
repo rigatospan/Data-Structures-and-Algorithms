{
 "cells": [
  {
   "cell_type": "markdown",
   "metadata": {},
   "source": [
    "# Shortest Path Algorithms\n",
    "\n",
    "Given a directed, weighted graph $G(V,E)$ we define the weight of a path $p = \\{v_0, v_1, \\dots, v_k\\}$ as $$w(p = \\{v_0, v_1, \\dots, v_k\\}) = \\sum \\limits_{i=1}^{k}w(v_{i-1},v_i)$$ and the shortest path from $u$ to $v$ as \n",
    "$$\\delta(u,v) = \n",
    "\\begin{cases}\n",
    "& min(w(p):u \\overset{p}{\\leadsto} v) \\,\\, , \\text{if $\\exists$ $p$ from $u$ to $v$ } \\\\\n",
    "    & \\infin \\,\\,\\, \\text{otherwise}\n",
    "\\end{cases}\n",
    "$$\n",
    "We have the following cases:\n",
    "- single source shortest path (sssp): given a source $v\\in V$ find the shortest path to any other vertex on $V$\n",
    "- single destination shortest path (sdsp): for a given vertex $t\\in V$ find the shortest path from every other vertex $v\\in V$ ending to $t$. For this problem we simply run sssp in $G^{T}$ with source vertex $t$\n",
    "- single pair shortest path: given a pair of vertices $(u,v)$ find the shortest path from $u$ to $v$. For this we simple run sssp with source $u$, until we find $v$. All known algorithms for (spsp) have the same worst time as sssp.\n",
    "- all pairs shortest paths (apsp): for every pair of vertices $u,v \\in V$ find the shortest path from $u$ to $v$. We can solve apsp by run sssp for every vertex in the graph, but there are algorithms that perform it faster."
   ]
  },
  {
   "cell_type": "markdown",
   "metadata": {},
   "source": [
    "### Properties of Shortest Paths\n",
    "- Optimal Substructure: if $p = \\{v_0,v_1, \\cdots, v_k\\}$ is a sp from $v_0$ to $v_k$, then $p_{ij} = \\{v_i,v_{i+1}, \\cdots, v_j\\}$ with   \n",
    "$0\\le i \\le j \\le k$ is a sp from $v_i$ to $v_j$\n",
    "- Negative Weight Cycle: if it exists on $G$ and is reachable from the source $s$ then the sp is not well-defined and denote $\\delta(s,v) = - \\infin$\n",
    "- Cycles: a sp cannot contain positive negetive cycles, only $0$-weighted cycles, but without loss of generality we can remove them and make any sp cycle free. This means that any sp has at most $|V|-1$ edges.\n",
    "- predecessor: for every vertex we keep a predecessor attribute $v.\\pi$ denoting the parent and define the predecessor subgraph $G_{\\pi}(V_{\\pi},E_{\\pi})$ as \n",
    "$$\\begin{align*}\n",
    "V_{\\pi} & =\\{v\\in V: \\,\\, v.p\\neq NIL\\}\\cup {s} \\\\\n",
    "E_{\\pi} & =\\{(v.{\\pi}, v)\\in E: \\,\\, v\\in V_{\\pi}-\\{s\\} \\} \\\\\n",
    "\\end{align*}\n",
    "$$ \n",
    "- At any point in the algorithms, for every vertex $v \\in V$ also hold an attribute $v.d$ that represents the \"so far\" shortest path distance from $s$ to $v$, such that at termination $\\delta(s,v) = v.d$ \n",
    "\n",
    "- Shortest Path Tree (spt): after determining the shortest paths from $s$ $G_{\\pi}$ is a tree denoted as $G'(V',E')$ where\n",
    "  - $V'$ is the set of vertices reachable from $s$ in $G$\n",
    "  - $G'$ forms a rooted tree with root $s$\n",
    "  - for all $v\\in V'$ the unique path from $s$ to $v$ in $G'$ is the sp from $s$ to $v$ in $G$\n",
    "- Initialization: initialize for all vertices $v.d = \\infin$, $v.\\pi = NIL$ and for the source $s.d=0$\n",
    "- Relaxation of an edge $(u,v)$: if $ v.d > u.d+w(u,v)$ then this means that the path $p: s \\leadsto u \\rightarrow v$ has a smaller total weight than the current distance of $v$, so replace \n",
    "$v.\\pi = u$ and update $v.d = u.d +w(u,v)$"
   ]
  },
  {
   "cell_type": "markdown",
   "metadata": {},
   "source": [
    "Properties:\n",
    "- Triangle inequality: For any $(u,v)\\in E$ we have \n",
    "$$\\delta(s,v) \\leq \\delta(s,u) + w(u,v) $$\n",
    "- Upper-bound property: at any moment $u.d \\geq \\delta(s,u)$ and once they are equal $u.d$ remains $\\delta(s,u)$\n",
    "- No-path property: if there is no path from $s$ to $u$ then $u.d = \\delta(s,u)= \\infin$\n",
    "- Convergence property: if $s\\leadsto u \\rightarrow v$ is a sp for $v$ and if $u.d = \\delta(s,u)$ prior to relaxing $(u,v)$ then after relaxing the edge $(u,v)$ $v.d = \\delta(s,v)$ and remains the same afterwards.\n",
    "- Path-relaxation property: if $p = \\{v_0,v_1, \\cdots, v_k\\}$\n",
    "is the sp from $s = v_0$ to $v_k$ and the edges are relaxed in order $(v_0,v_1),(v_1,v_2),\\cdots, (v_{k-1},v_k)$ then $v_k.d = \\delta(s,v_k)$.\n",
    "- Predecessor-subgraph property: once $v.d = \\delta(s,v)$ for all $v\\in V$ then the predecessor subgraph is a shortest paths tree rooted at s. "
   ]
  },
  {
   "cell_type": "markdown",
   "metadata": {},
   "source": [
    "### Bellman-Ford Algorithm\n",
    "- given a directed graph $G(V, E)$ and a source $s\\in V$, the Bellman-Ford Algorithm finds a spt for s. It works with negative weights, and if there exists a negative weighted cycle that is reachable from $s$ the algorithm returns False, otherwise True\n",
    "- after initializing the nodes the algorithm relaxes all the edges on the graph as many times as the number of vertices minus one.\n",
    "- the pseudocode works as follows:\n",
    "  - Initialize(V):\n",
    "    - for $v\\in V$: $v.\\pi = None$; $v.d = \\infin$\n",
    "    - $s.d  = 0$\n",
    "  - for $ i\\, = \\, 1 $ to $|V|-1$:\n",
    "    - for $(u,v) \\in E$:\n",
    "      - Relax(u,v): \n",
    "        - if $v.d \\, >\\, u.d+w(u,v)$: \n",
    "            - $v.d = u.d+w(u,v)$\n",
    "            - $v.\\pi = u$\n",
    "  - \\# perform one more relaxation to check for negative weighted cycles\n",
    "  - for $(u,v)\\in E$:\n",
    "    - if $v.d\\, > \\, u.d +w(u,v)$:\n",
    "      - return False\n",
    "  - return True\n",
    "- time complexity is $\\mathcal{O}\\left(|V|^2+|V|\\cdot|E|\\right)$"
   ]
  },
  {
   "cell_type": "markdown",
   "metadata": {},
   "source": [
    "### Single Source Shortest Paths in directed acycle graphs (DAG)\n",
    "- If $G(V,E)$ is a directed acycle graph then we can improve Bellman - Ford algorithm by relaxing each edge exactly onde by considering the vertices in topological order.\n",
    "- topologically sort the verices of $G$\n",
    "- Initialize $V,s$\n",
    "- for $u\\in V$ in topologically sorted ored:\n",
    "  - for $v$ in $G$.Adj_list[$u$]:\n",
    "    - Relax$(u,v)$\n",
    "- this runs in $\\mathcal{O}(|V|+|E|)$\n",
    "- if all the weights are equal to each other and positive, then a Bread-First-Search will give the sssp since for each vertex the sp distance is just the number of descendants times the weight. "
   ]
  },
  {
   "cell_type": "markdown",
   "metadata": {},
   "source": [
    "### Dijstra's Algorithm\n",
    "- Dijstra's algorithm find the spt for a source $s$ in a directed, weighted graph $G(V,E)$ that has non-negative weights, i.e. $$w(u,v)\\ge 0\\,\\,, \\,\\, \\forall (u,v)\\in E$$\n",
    "- the algorithm visits each node once and relaxes each edge exactly once. It works similarly to the Prim's algorithm for mst. Starting at the source maintain a min-priority queue with keys the $d$-values of the vertices. Then at each step extract the vertex with the min-$d$ value, added to the spt and relax the edges in the adjacency list of that vertex.\n",
    "- Initialize $V,s$  $\\quad \\mathcal{O}(|V|)$\n",
    "- minQ $= [s,v_1,\\cdots, v_{n-1}]$ $\\quad \\mathcal{O}(|V|)$\n",
    "- while minQ: $\\quad \\mathcal{O}(|V|)$\n",
    "  - node_add_spt = minQ.extract_min()  $\\quad \\mathcal{O}(|V|)$\n",
    "  - for node_adj in $G$.adj_list[node_add_spt]: $\\quad \\mathcal{O}(|E|)$\n",
    "    - Relax((node_add_spt, node_adj))\n",
    "    - minQ.bubleup(node_adj) $\\quad \\mathcal{O}(\\log(|V|))$\n",
    "\n",
    "- time complexity: $\\mathcal{O}((|V|+|E|)\\log|V|)$ if the min-priority queue is constructed by a min-heap\n",
    "- time complexity: $\\mathcal{O}(|V|\\log|V|+|E|)$ if the min-priority queue is constructed by a Fibonacci heap"
   ]
  },
  {
   "cell_type": "code",
   "execution_count": 7,
   "metadata": {},
   "outputs": [],
   "source": [
    "class GraphAdjList:\n",
    "    '''Implementaion of a graph using an adjacency list\n",
    "    '''\n",
    "\n",
    "    def __init__(self, size: int, directed: bool = False, weighted: bool = False):\n",
    "        self.size = size\n",
    "        self.adj_list = [set() for _ in range(size)]\n",
    "        self.vertex_data = [None]*self.size\n",
    "        self.directed = directed\n",
    "        self.weighted = weighted\n",
    "\n",
    "    def add_edge(self, u:int, v:int, w = 1):\n",
    "        if not self.weighted:\n",
    "            w =1\n",
    "        if 0<=u<=self.size and 0<=v<=self.size:\n",
    "            self.adj_list[u].add((v, w))\n",
    "            if not self.directed:\n",
    "                self.adj_list[v].add((u, w))\n",
    "    \n",
    "    def add_vertex_data(self, vertex: int, data = None):\n",
    "        if data==None:\n",
    "            data=vertex\n",
    "\n",
    "        if 0<= vertex <=self.size:\n",
    "            self.vertex_data[vertex] = data\n",
    "\n",
    "    def print_graph(self):\n",
    "        for vertex, nbrhs in enumerate(self.adj_list):\n",
    "            print(f\"Vertex {self.vertex_data[vertex]} is connected to {','.join([self.vertex_data[v]+' w='+str(w) for (v, w) in nbrhs])}\") "
   ]
  },
  {
   "cell_type": "code",
   "execution_count": 8,
   "metadata": {},
   "outputs": [
    {
     "name": "stdout",
     "output_type": "stream",
     "text": [
      "Vertex 0 is connected to 1 w=6,3 w=7\n",
      "Vertex 1 is connected to 3 w=8,2 w=5,4 w=-4\n",
      "Vertex 2 is connected to 1 w=-2\n",
      "Vertex 3 is connected to 2 w=-3,4 w=9\n",
      "Vertex 4 is connected to 2 w=7\n"
     ]
    }
   ],
   "source": [
    "g = GraphAdjList(size=5,directed=True, weighted=True)\n",
    "for i in range(5):\n",
    "    g.add_vertex_data(i, data=str(i))\n",
    "    \n",
    "g.add_edge(0, 1, 6)\n",
    "g.add_edge(0, 3, 7)\n",
    "g.add_edge(1, 2, 5)\n",
    "g.add_edge(1, 3, 8)\n",
    "g.add_edge(1, 4, -4)\n",
    "g.add_edge(2, 1, -2)\n",
    "g.add_edge(3, 2, -3)\n",
    "g.add_edge(3, 4, 9)\n",
    "g.add_edge(4, 2, 7)\n",
    "g.print_graph()"
   ]
  },
  {
   "cell_type": "code",
   "execution_count": 10,
   "metadata": {},
   "outputs": [],
   "source": [
    "def bellmann_ford(g: GraphAdjList, source: int)-> tuple:\n",
    "    '''Execution of Bellmann-Ford algorithm on a directed, weighted graph g, starting from a source vertex source.\n",
    "    Returns True if there is no negative weighted cycle that is reachable from source, else False.\n",
    "    '''\n",
    "    \n",
    "    # initialize all vertices\n",
    "    parents = [None]*g.size\n",
    "    distances = [float('inf')]*g.size\n",
    "    distances[source] = 0\n",
    "    \n",
    "    # run |V|-1 relaxations of all the edges\n",
    "    for _ in range(g.size-1):\n",
    "        for vertex in range(g.size):\n",
    "            for (adj_vertex, w) in g.adj_list[vertex]:\n",
    "                # relax edge (vertex, adj_vertex)\n",
    "                if distances[adj_vertex]> distances[vertex]+w:\n",
    "                    distances[adj_vertex] = distances[vertex]+w\n",
    "                    parents[adj_vertex] = vertex\n",
    "    \n",
    "    # run one more relaxation of all the edges to detect if there is a nwc]\n",
    "    \n",
    "    for vertex in range(g.size):\n",
    "            for (adj_vertex, w) in g.adj_list[vertex]:\n",
    "                # try relaxing the edge (vertex, adj_vertex)\n",
    "                if distances[adj_vertex]> distances[vertex]+w:\n",
    "                    return False\n",
    "                \n",
    "    return True, parents, distances"
   ]
  },
  {
   "cell_type": "code",
   "execution_count": 25,
   "metadata": {},
   "outputs": [
    {
     "name": "stdout",
     "output_type": "stream",
     "text": [
      "for node 0, the path is [0] and the total distance is 0\n",
      "for node 1, the path is [0, 3, 2, 1] and the total distance is 2\n",
      "for node 2, the path is [0, 3, 2] and the total distance is 4\n",
      "for node 3, the path is [0, 3] and the total distance is 7\n",
      "for node 4, the path is [0, 3, 2, 1, 4] and the total distance is -2\n"
     ]
    }
   ],
   "source": [
    "def print_paths(g: GraphAdjList, source: int, algorithm = bellmann_ford):\n",
    "    nwc, parents, distances = algorithm(g, source=0)\n",
    "    if not nwc:\n",
    "        print(f'The graph contains a negative weighted cycle that is reachable from {g.vertex_data[source]}')\n",
    "        return\n",
    "    \n",
    "    for node in range(g.size):\n",
    "        path = [node]\n",
    "        p = parents[node]\n",
    "        while p!=None:\n",
    "            path.append(p)\n",
    "            p = parents[p]\n",
    "        \n",
    "        print(f'for node {node}, the path is {list(reversed(path))} and the total distance is {distances[node]}')\n",
    "        \n",
    "print_paths(g, source=0)"
   ]
  },
  {
   "cell_type": "code",
   "execution_count": 28,
   "metadata": {},
   "outputs": [],
   "source": [
    "def dijstra(g: GraphAdjList, source:int):\n",
    "    '''Implementation of Dijsta's Algorithm for a directed, positive weighted graph g, from a source vertex source\n",
    "    '''\n",
    "    \n",
    "    # initialize all vertices\n",
    "    parents = [None]*g.size\n",
    "    distances = [float('inf')]*g.size\n",
    "    distances[source] = 0\n",
    "    \n",
    "    l = [i for i in range(g.size)]\n",
    "    \n",
    "    while l:\n",
    "        node = min(l, key= lambda node: distances[node])\n",
    "        l.remove(node)\n",
    "        \n",
    "        for (node_adj, w) in g.adj_list[node]:\n",
    "            if distances[node_adj] > distances[node] + w:\n",
    "                distances[node_adj] = distances[node]+w\n",
    "                parents[node_adj] = node\n",
    "    \n",
    "    return True, parents, distances\n",
    "        "
   ]
  },
  {
   "cell_type": "code",
   "execution_count": 32,
   "metadata": {},
   "outputs": [
    {
     "name": "stdout",
     "output_type": "stream",
     "text": [
      "Vertex 0 is connected to 3 w=5,1 w=10\n",
      "Vertex 1 is connected to 3 w=2,2 w=1\n",
      "Vertex 2 is connected to 4 w=4\n",
      "Vertex 3 is connected to 2 w=9,1 w=3,4 w=2\n",
      "Vertex 4 is connected to 0 w=7,2 w=6\n",
      "for node 0, the path is [0] and the total distance is 0\n",
      "for node 1, the path is [0, 3, 1] and the total distance is 8\n",
      "for node 2, the path is [0, 3, 1, 2] and the total distance is 9\n",
      "for node 3, the path is [0, 3] and the total distance is 5\n",
      "for node 4, the path is [0, 3, 4] and the total distance is 7\n"
     ]
    }
   ],
   "source": [
    "g = GraphAdjList(size=5,directed=True, weighted=True)\n",
    "for i in range(5):\n",
    "    g.add_vertex_data(i, data=str(i))\n",
    "    \n",
    "g.add_edge(0, 1, 10)\n",
    "g.add_edge(0, 3, 5)\n",
    "g.add_edge(1, 2, 1)\n",
    "g.add_edge(1, 3, 2)\n",
    "g.add_edge(2, 4, 4)\n",
    "g.add_edge(3, 1, 3)\n",
    "g.add_edge(3, 2, 9)\n",
    "g.add_edge(3, 4, 2)\n",
    "g.add_edge(4, 2, 6)\n",
    "g.add_edge(4, 0, 7)\n",
    "\n",
    "g.print_graph()\n",
    "\n",
    "print_paths(g, source=0, algorithm=dijstra)"
   ]
  },
  {
   "cell_type": "code",
   "execution_count": null,
   "metadata": {},
   "outputs": [],
   "source": []
  }
 ],
 "metadata": {
  "kernelspec": {
   "display_name": "Python 3",
   "language": "python",
   "name": "python3"
  },
  "language_info": {
   "codemirror_mode": {
    "name": "ipython",
    "version": 3
   },
   "file_extension": ".py",
   "mimetype": "text/x-python",
   "name": "python",
   "nbconvert_exporter": "python",
   "pygments_lexer": "ipython3",
   "version": "3.10.11"
  }
 },
 "nbformat": 4,
 "nbformat_minor": 2
}
