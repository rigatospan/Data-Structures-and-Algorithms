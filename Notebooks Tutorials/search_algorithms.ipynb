{
 "cells": [
  {
   "cell_type": "markdown",
   "metadata": {},
   "source": [
    "# Basic Searching algorithms\n",
    "\n",
    "Problem Statement: Given an array arr with n elements check if the element ell exist in arr and return its position; otherwise return -1"
   ]
  },
  {
   "cell_type": "markdown",
   "metadata": {},
   "source": [
    "## Linear Search\n",
    "\n",
    "- Assumptions: Array can be random\n",
    "- Algorithm: sequencially compare its element of the array to ell"
   ]
  },
  {
   "cell_type": "code",
   "execution_count": 2,
   "metadata": {},
   "outputs": [],
   "source": [
    "def linear_search(arr: list, ell: int)-> int:\n",
    "    '''Search linearly a list for a specific element\n",
    "    returns the position of the element if it exists on the list,\n",
    "    otherwise returns -1\n",
    "    '''\n",
    "\n",
    "    for i, element in enumerate(arr):\n",
    "        if element == ell:\n",
    "            return i\n",
    "    else:\n",
    "        return -1"
   ]
  },
  {
   "cell_type": "code",
   "execution_count": 5,
   "metadata": {},
   "outputs": [
    {
     "name": "stdout",
     "output_type": "stream",
     "text": [
      "3\n"
     ]
    }
   ],
   "source": [
    "arr = [2, 3, 4, 10, 40]\n",
    "key = 10\n",
    "print(linear_search(arr, key))"
   ]
  },
  {
   "cell_type": "markdown",
   "metadata": {},
   "source": [
    "- time complexity is $\\mathcal{O}(n)$, with $n$ the length of the array\n",
    "- best case is $\\mathcal{O}(1)$\n",
    "- average and worstecase is $\\mathcal{O}(n)$\n",
    "- auxiliary space is $\\mathcal{O}(1)$"
   ]
  },
  {
   "cell_type": "markdown",
   "metadata": {},
   "source": [
    "## Binary Search"
   ]
  },
  {
   "cell_type": "markdown",
   "metadata": {},
   "source": [
    "### Problem and algorithm\n",
    "\n",
    "- Assumptions: Array must be sorted\n",
    "- Algorithm: Recursively compare the ell with the middle element of arr. If it is bigger/small consider the upper/buttom half of arr in the next recurssion. Stop if the element is equal to that of the middle element -> return the index or if the recursive array is empty -> the element does not exist on arr return -1"
   ]
  },
  {
   "cell_type": "code",
   "execution_count": 3,
   "metadata": {},
   "outputs": [],
   "source": [
    "def binary_search_recursion(arr: list, ell: int, left: int, right: int)-> int:\n",
    "    \n",
    "    if left<=right:\n",
    "        middle = left+ (right-left)//2\n",
    "        if arr[middle] == ell:\n",
    "            return middle\n",
    "        elif arr[middle] < ell:\n",
    "            return binary_search_recursion(arr, ell, middle+1, right)\n",
    "        else:\n",
    "            return binary_search_recursion(arr, ell, left, middle-1)\n",
    "    else: \n",
    "        return -1"
   ]
  },
  {
   "cell_type": "code",
   "execution_count": 4,
   "metadata": {},
   "outputs": [],
   "source": [
    "def binary_search_loop(arr, ell):\n",
    "    left = 0\n",
    "    right = len(arr)-1\n",
    "\n",
    "    while left<=right:\n",
    "        middle = left + (right-left)//2\n",
    "        if arr[middle] == ell:\n",
    "            return middle\n",
    "        elif arr[middle] < ell:\n",
    "            left = middle+1\n",
    "        else:\n",
    "            right = middle-1\n",
    "    else:\n",
    "        return -1"
   ]
  },
  {
   "cell_type": "code",
   "execution_count": 5,
   "metadata": {},
   "outputs": [
    {
     "name": "stdout",
     "output_type": "stream",
     "text": [
      "5\n",
      "5\n"
     ]
    }
   ],
   "source": [
    "ar = [1,2,5,6,10,11,22,50]\n",
    "element = 11\n",
    "print(binary_search_recursion(ar,element, 0, len(ar)-1))\n",
    "print(binary_search_loop(ar, element))"
   ]
  },
  {
   "cell_type": "markdown",
   "metadata": {},
   "source": [
    "- Average, Worst Complexity is $\\mathcal{O}(logn)$\n",
    "- Best Complexity is $\\mathcal{O}(1)$\n",
    "- Auxiliary space is $\\mathcal{O}(1)$ or $\\mathcal{O}(logn)$ for the recursive stack"
   ]
  },
  {
   "cell_type": "markdown",
   "metadata": {},
   "source": [
    "## Ternary Search\n",
    "- Assumptions: Array must be sorted\n",
    "- Algorithm: Similar to binary search but divide the array into three parts and check in which part may the element exist"
   ]
  },
  {
   "cell_type": "code",
   "execution_count": 43,
   "metadata": {},
   "outputs": [],
   "source": [
    "def ternary_search(arr: list, ell: int, left: int, right: int) -> int:\n",
    "    \n",
    "    if left<=right:\n",
    "        m1 = left + (right-left)//3\n",
    "        m2 = right - (right-left)//3\n",
    "         \n",
    "        if ell<arr[m1]:\n",
    "            return ternary_search(arr, ell, left, m1-1)\n",
    "        elif ell == arr[m1]:\n",
    "            return m1\n",
    "        elif arr[m1]< ell< arr[m2]:\n",
    "            return ternary_search(arr, ell, m1+1, m2-1)\n",
    "        elif arr[m2] == ell:\n",
    "            return m2\n",
    "        else:\n",
    "            return ternary_search(arr, ell, m2+1, right)\n",
    "    else:\n",
    "        return -1\n"
   ]
  },
  {
   "cell_type": "code",
   "execution_count": 44,
   "metadata": {},
   "outputs": [
    {
     "name": "stdout",
     "output_type": "stream",
     "text": [
      "5\n"
     ]
    }
   ],
   "source": [
    "ar = [1,2,5,6,10,11,22,50]\n",
    "element = 11\n",
    "print(ternary_search(ar, element, 0, len(ar)-1))"
   ]
  },
  {
   "cell_type": "markdown",
   "metadata": {},
   "source": [
    "- Best Complexity: $\\mathcal{O}(1)$\n",
    "- Average-Worst Complexity: $\\mathcal{O}(2*log_{3}n)$\n",
    "- auxiliary Space: $\\mathcal{O}(log_{3}n)$"
   ]
  },
  {
   "cell_type": "markdown",
   "metadata": {},
   "source": [
    "## Jumb Search\n",
    "\n",
    "- Assumptions: array arr must be sorted\n",
    "- Algorithm: startin at the beggining of the arrat jumb at position $m<n$ and compare it to ell, then jumb at position $2m$ etc until $arr[k*m]>ell$, then perform a linear search on $arr[(k-1)*m:k*m]$. \n",
    "- Choosing jump step: worst complexity $\\mathcal{O}(n//m+m-1)$ (for $n//m$ jumps and m-1 linear search comparisons) which has a minimum for $m=\\sqrt{n}$ "
   ]
  },
  {
   "cell_type": "code",
   "execution_count": 57,
   "metadata": {},
   "outputs": [],
   "source": [
    "import math\n",
    "def jump_search(arr, ell):\n",
    "    n = len(arr)-1\n",
    "    m = int(math.sqrt(n))\n",
    "    \n",
    "    # check the first element\n",
    "    if arr[0] == ell:\n",
    "        return 0\n",
    "    i=1\n",
    "    while i*m<= n:\n",
    "        if arr[i*m] < ell:\n",
    "            i+=1\n",
    "            continue\n",
    "        else:\n",
    "            for j, element in enumerate(arr[(i-1)*m: i*m+1]):\n",
    "                if element == ell:\n",
    "                    return (i-1)*m+j\n",
    "    else:\n",
    "        if arr[n] <= ell:\n",
    "            for j, element in enumerate(arr[i*m:n+1]):\n",
    "                if element == ell:\n",
    "                    return i*m + j\n",
    "\n",
    "    return -1\n"
   ]
  },
  {
   "cell_type": "code",
   "execution_count": 61,
   "metadata": {},
   "outputs": [],
   "source": [
    "import math\n",
    "def jump_search(arr, ell):\n",
    "    n = len(arr)-1\n",
    "    m = int(math.sqrt(n))\n",
    "    \n",
    "    i=0\n",
    "    while arr[min(i*m,n)] < ell:\n",
    "        if i*m > n:\n",
    "            return -1\n",
    "        i+=1\n",
    "    \n",
    "    if i==0 and arr[0]>ell:\n",
    "        return -1\n",
    "    \n",
    "    for j in range(i-1, i+1):\n",
    "        if arr[i-1+j] == ell:\n",
    "            return i-1+j\n",
    "\n",
    "    return -1\n"
   ]
  },
  {
   "cell_type": "code",
   "execution_count": 62,
   "metadata": {},
   "outputs": [
    {
     "name": "stdout",
     "output_type": "stream",
     "text": [
      "5\n"
     ]
    }
   ],
   "source": [
    "ar = [1,2,5,6,10,11,22,50]\n",
    "element = 11\n",
    "print(jump_search(ar, element))"
   ]
  },
  {
   "cell_type": "markdown",
   "metadata": {},
   "source": [
    "## Interpolation Search\n",
    "\n",
    "- Assumprion: Array arr is sorted and moreover the values are lineraly distributed\n",
    "- Algorithm: if $x$ the index and $y$ the value of an element in the array then $y - arr[l]=\\frac{arr[h]-arr[l]}{h-l}(x-l)$ where l,h the low and high index of the array.\n",
    "Then if we are looking for the element $y = ell$ its probable position will be $pos = l + \\frac{h-l}{arr[h]-arr[l]}(ell-arr[l])$. So at eny iteration look if $arr[pos] == ell$ and if not take the subarra (l, pos-1) or (pos+1, h) and calculate the next probable position."
   ]
  },
  {
   "cell_type": "code",
   "execution_count": 1,
   "metadata": {},
   "outputs": [],
   "source": [
    "def interpolation_search(arr: list, ell: int, low: int, high: int) -> int:\n",
    "    \n",
    "    if high > low:\n",
    "        pos = low + (high - low)//(arr[high]-arr[low])*(ell-arr[low])\n",
    "\n",
    "        if arr[pos] == ell:\n",
    "            return pos\n",
    "        elif arr[pos]>ell:\n",
    "            return interpolation_search(arr, ell, low, pos-1)\n",
    "        else:\n",
    "            return interpolation_search(arr, ell, pos+1, high)\n",
    "    elif high == low:\n",
    "        if arr[low] == ell:\n",
    "            return low\n",
    "         \n",
    "    return -1\n"
   ]
  },
  {
   "cell_type": "code",
   "execution_count": 2,
   "metadata": {},
   "outputs": [
    {
     "name": "stdout",
     "output_type": "stream",
     "text": [
      "4\n"
     ]
    }
   ],
   "source": [
    "arr = [10, 12, 13, 16, 18, 19, 20,\n",
    "       21, 22, 23, 24, 33, 35, 42, 47]\n",
    "ell = 18\n",
    "print(interpolation_search(arr, ell, 0, len(arr)-1))"
   ]
  },
  {
   "cell_type": "markdown",
   "metadata": {},
   "source": [
    "- Average: $\\mathcal{O}(log(logn))$\n",
    "- Worst: $\\mathcal{O}(n)$\n",
    "- Auxiliary space: $\\mathcal{O}(1)$"
   ]
  },
  {
   "cell_type": "markdown",
   "metadata": {},
   "source": [
    "## Exponential Search\n",
    "\n",
    "- Assumptions: array arr must be sorted\n",
    "- Algorithm: staring at index = 1 and continue to 2, 4, 16, etc find an index s.t. $arr[index] > ell$ and then perform binary search on $arr[index//2, index]$."
   ]
  },
  {
   "cell_type": "code",
   "execution_count": 6,
   "metadata": {},
   "outputs": [],
   "source": [
    "def exponential_search(arr, ell):\n",
    "    # check the first element\n",
    "    if arr[0] == ell:\n",
    "        return 0\n",
    "    \n",
    "    i=1\n",
    "    while i<len(arr) and arr[i]<=ell:\n",
    "        i*=2\n",
    "\n",
    "    return binary_search_recursion(arr, ell, i//2, min(i, len(arr)-1))\n"
   ]
  },
  {
   "cell_type": "code",
   "execution_count": 7,
   "metadata": {},
   "outputs": [
    {
     "name": "stdout",
     "output_type": "stream",
     "text": [
      "4\n"
     ]
    }
   ],
   "source": [
    "arr = [10, 12, 13, 16, 18, 19, 20,\n",
    "       21, 22, 23, 24, 33, 35, 42, 47]\n",
    "ell = 18\n",
    "print(exponential_search(arr, ell))"
   ]
  },
  {
   "cell_type": "markdown",
   "metadata": {},
   "source": [
    "- Average, Worst case: $\\mathcal{O}(logn)$\n",
    "- Auxiliary space: $\\mathcal{O}(logn)$"
   ]
  },
  {
   "cell_type": "code",
   "execution_count": null,
   "metadata": {},
   "outputs": [],
   "source": []
  }
 ],
 "metadata": {
  "kernelspec": {
   "display_name": "Python 3",
   "language": "python",
   "name": "python3"
  },
  "language_info": {
   "codemirror_mode": {
    "name": "ipython",
    "version": 3
   },
   "file_extension": ".py",
   "mimetype": "text/x-python",
   "name": "python",
   "nbconvert_exporter": "python",
   "pygments_lexer": "ipython3",
   "version": "3.12.3"
  }
 },
 "nbformat": 4,
 "nbformat_minor": 2
}
