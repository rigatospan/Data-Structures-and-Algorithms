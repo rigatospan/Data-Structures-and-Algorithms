{
 "cells": [
  {
   "cell_type": "markdown",
   "metadata": {},
   "source": [
    "## Coin Change problem\n",
    "Given amount $A>0$ coins $\\{c_1,c_2,\\dots, c_k\\}$, find numbers $\\{n_j\\ge 0\\}_{j=1,\\dots, k}$ such that \n",
    "$$\\begin{align} \n",
    "A & = \\sum\\limits_{j=1}^{k}n_j\\cdot c_j \\\\\n",
    "N(A) & = \\min_{\\{n_j\\}}\\sum\\limits_{j=1}^{k}n_j\n",
    "\\end{align}\n",
    " $$\n",
    "Similar to the rod-cutting problem we can use:\n",
    "- a naive top-down recursion\n",
    "- a top-down recursion with memoization\n",
    "- a bottom-up memoization\n",
    "- a top-down recursion on the possible number of each coin and not on each coin\n",
    "- a bottom-up memoization on the possible number of each coin"
   ]
  },
  {
   "cell_type": "code",
   "execution_count": 10,
   "metadata": {},
   "outputs": [],
   "source": [
    "def min_number(amount: int, coins: list):\n",
    "    if amount<0:\n",
    "        return float('inf')\n",
    "    if amount==0:\n",
    "        return 0\n",
    "    # do not add 0 in case of a waste, since we want an exact partition\n",
    "    # if there is no partition will return infinity\n",
    "    return min([1+min_number(amount-coin, coins) for coin in coins])"
   ]
  },
  {
   "cell_type": "code",
   "execution_count": 11,
   "metadata": {},
   "outputs": [
    {
     "name": "stdout",
     "output_type": "stream",
     "text": [
      "minimum number of coins for amound 17 is 2\n",
      "minimum number of coins for amound 23 is 2\n",
      "minimum number of coins for amound 42 is 4\n"
     ]
    }
   ],
   "source": [
    "coins = [1, 4, 7, 9, 16, 43]\n",
    "amounts = [17, 23, 42]\n",
    "\n",
    "for amount in amounts:\n",
    "    print(f'minimum number of coins for amound {amount} is {min_number(amount, coins)}')"
   ]
  },
  {
   "cell_type": "code",
   "execution_count": 9,
   "metadata": {},
   "outputs": [
    {
     "data": {
      "text/plain": [
       "inf"
      ]
     },
     "execution_count": 9,
     "metadata": {},
     "output_type": "execute_result"
    }
   ],
   "source": [
    "coins = [4, 7, 9, 16, 43]\n",
    "amounts = [17, 23, 42]\n",
    "min_number(6, coins)"
   ]
  },
  {
   "cell_type": "code",
   "execution_count": 14,
   "metadata": {},
   "outputs": [],
   "source": [
    "def min_number_bottom_up(amount: int, coins: list):\n",
    "    amounts = [0]+[float('inf')]*amount\n",
    "    \n",
    "    for a in range(1,amount+1):\n",
    "        min_n = min([1+amounts[a-coin] for coin in coins if a-coin>=0]+[float('inf')])\n",
    "        amounts[a] = min_n\n",
    "    \n",
    "    return amounts[amount]"
   ]
  },
  {
   "cell_type": "code",
   "execution_count": 22,
   "metadata": {},
   "outputs": [
    {
     "name": "stdout",
     "output_type": "stream",
     "text": [
      "minimum number of coins for amound 5 is 2\n",
      "minimum number of coins for amound 10 is 2\n",
      "minimum number of coins for amound 17 is 2\n",
      "minimum number of coins for amound 23 is 2\n",
      "minimum number of coins for amound 42 is 4\n",
      "minimum number of coins for amound 298 is 10\n"
     ]
    }
   ],
   "source": [
    "coins = [1, 4, 7, 9, 16, 43]\n",
    "amounts = [5, 10, 17, 23, 42, 298]\n",
    "\n",
    "for amount in amounts:\n",
    "    print(f'minimum number of coins for amound {amount} is {min_number_bottom_up(amount, coins)}')"
   ]
  },
  {
   "cell_type": "code",
   "execution_count": 30,
   "metadata": {},
   "outputs": [],
   "source": [
    "def min_number_2(amount: int, j: int, coins: list):\n",
    "    if amount<0: \n",
    "        return float('inf')\n",
    "    if amount==0:\n",
    "        return 0\n",
    "    if j==len(coins):\n",
    "        return float('inf')\n",
    "\n",
    "    k_j = int(amount/coins[j])\n",
    "    return min([nj+min_number_2(amount-nj*coins[j], j+1, coins) for nj in range(0,k_j+1)] )"
   ]
  },
  {
   "cell_type": "code",
   "execution_count": 36,
   "metadata": {},
   "outputs": [
    {
     "name": "stdout",
     "output_type": "stream",
     "text": [
      "minimum number of coins for amound 8 is 2\n",
      "minimum number of coins for amound 23 is 2\n",
      "minimum number of coins for amound 42 is 4\n"
     ]
    }
   ],
   "source": [
    "coins = [1,4, 7, 9, 16, 43]\n",
    "amounts = [8, 23, 42]\n",
    "\n",
    "for amount in amounts:\n",
    "    print(f'minimum number of coins for amound {amount} is {min_number_2(amount, 0,coins)}')"
   ]
  },
  {
   "cell_type": "code",
   "execution_count": null,
   "metadata": {},
   "outputs": [],
   "source": []
  },
  {
   "cell_type": "markdown",
   "metadata": {},
   "source": [
    "## Knapsack Problem\n",
    "Given a total weight $W$ and weights $\\{w_1,w_2,\\dots, w_k\\}$ corresponding to values $\\{v_1,v_2,\\dots,v_k\\}$, find numbers $\\{n_j\\in(0,1)\\,\\,,\\,\\, j=1,\\dots,k\\}$ such that:\n",
    "$$\n",
    "\\begin{align}\n",
    "W &= \\sum_{j=1}^{k}n_j\\cdot w_j +\\text{waste} \\\\\n",
    "V &= \\max_{\\{n_j\\}} \\sum_{j=1}^kn_j\\cdot v_j\n",
    "\\end{align}\n",
    "$$"
   ]
  },
  {
   "cell_type": "code",
   "execution_count": 1,
   "metadata": {},
   "outputs": [],
   "source": [
    "def max_value(w: int, j: int, weights: list, values: list):\n",
    "    if w<0:\n",
    "        return float('-inf')\n",
    "    if w==0:\n",
    "        return 0\n",
    "    if j==len(weights):\n",
    "        return 0\n",
    "    \n",
    "    return max([max_value(w-nj*weights[j], j+1, weights, values)+values[j]*nj for nj in (0,1)] )"
   ]
  },
  {
   "cell_type": "code",
   "execution_count": 2,
   "metadata": {},
   "outputs": [
    {
     "data": {
      "text/plain": [
       "263.7"
      ]
     },
     "execution_count": 2,
     "metadata": {},
     "output_type": "execute_result"
    }
   ],
   "source": [
    "W = 200 # weight limit is 200\n",
    "weights = [1, 5, 20, 35, 90] # These are the weights of individual items\n",
    "values = [15, 14.5, 19.2, 19.8, 195.2] # These are the values of individual items\n",
    "max_value(W, 0, weights, values)"
   ]
  },
  {
   "cell_type": "code",
   "execution_count": 3,
   "metadata": {},
   "outputs": [
    {
     "data": {
      "text/plain": [
       "29.5"
      ]
     },
     "execution_count": 3,
     "metadata": {},
     "output_type": "execute_result"
    }
   ],
   "source": [
    "max_value(20, 0, weights, values)"
   ]
  },
  {
   "cell_type": "code",
   "execution_count": 9,
   "metadata": {},
   "outputs": [],
   "source": [
    "def max_value_memo(w, weights, values):\n",
    "    k = len(weights)\n",
    "    max_values = [[0]*(k+1) for _ in range(w+1)]\n",
    "    \n",
    "    for i in range(1, w+1):\n",
    "        for j in range(k-1,-1,-1):\n",
    "            max_values[i][j] = max([nj*values[j]+max_values[i-nj*weights[j]][j+1] for nj in (0,1) if i-nj*weights[j]>=0])\n",
    "    \n",
    "    return max_values[w][0]"
   ]
  },
  {
   "cell_type": "code",
   "execution_count": 10,
   "metadata": {},
   "outputs": [
    {
     "data": {
      "text/plain": [
       "263.7"
      ]
     },
     "execution_count": 10,
     "metadata": {},
     "output_type": "execute_result"
    }
   ],
   "source": [
    "W = 200 # weight limit is 200\n",
    "weights = [1, 5, 20, 35, 90] # These are the weights of individual items\n",
    "values = [15, 14.5, 19.2, 19.8, 195.2] # These are the values of individual items\n",
    "max_value_memo(W, weights, values)"
   ]
  },
  {
   "cell_type": "code",
   "execution_count": null,
   "metadata": {},
   "outputs": [],
   "source": []
  },
  {
   "cell_type": "markdown",
   "metadata": {},
   "source": [
    "## Longest Common Subsequence of Strings\n",
    "Given two strings $s_1,s_2$ of length $n,m$ respectively, find the longest common sub-string subsequence.\n"
   ]
  },
  {
   "cell_type": "code",
   "execution_count": 11,
   "metadata": {},
   "outputs": [],
   "source": [
    "def lcs(s1: str, s2: str, i: int,j: int):\n",
    "    if i == len(s1) or j == len(s2):\n",
    "        return 0\n",
    "    \n",
    "    if s1[i] == s2[j]:\n",
    "        return 1+lcs(s1,s2,i+1,j+1)\n",
    "    \n",
    "    return max(lcs(s1, s2, i+1, j), lcs(s1, s2, i,  j+1))"
   ]
  },
  {
   "cell_type": "code",
   "execution_count": 12,
   "metadata": {},
   "outputs": [
    {
     "name": "stdout",
     "output_type": "stream",
     "text": [
      "6\n"
     ]
    }
   ],
   "source": [
    "s1 = \"GATTACA\"\n",
    "s2 = \"ACTGATAACAA\"\n",
    "print(lcs(s1, s2, 0, 0))"
   ]
  },
  {
   "cell_type": "code",
   "execution_count": 16,
   "metadata": {},
   "outputs": [],
   "source": [
    "def lcs_memo(s1: str, s2: str):\n",
    "    n, m = len(s1), len(s2)\n",
    "    lcs_table = [[0]*(m+1) for _ in range(n+1)]\n",
    "    \n",
    "    for i in range(n-1, -1, -1):\n",
    "        for j in range(m-1,-1,-1):\n",
    "            if s1[i] == s2[j]:\n",
    "                lcs_table[i][j] = 1+lcs_table[i+1][j+1]\n",
    "            else:\n",
    "                lcs_table[i][j] = max(lcs_table[i+1][j], lcs_table[i][j+1])\n",
    "    \n",
    "    return lcs_table[0][0]"
   ]
  },
  {
   "cell_type": "code",
   "execution_count": 17,
   "metadata": {},
   "outputs": [
    {
     "name": "stdout",
     "output_type": "stream",
     "text": [
      "6\n"
     ]
    }
   ],
   "source": [
    "s1 = \"GATTACA\"\n",
    "s2 = \"ACTGATAACAA\"\n",
    "print(lcs_memo(s1, s2))"
   ]
  },
  {
   "cell_type": "code",
   "execution_count": 18,
   "metadata": {},
   "outputs": [
    {
     "data": {
      "text/plain": [
       "10"
      ]
     },
     "execution_count": 18,
     "metadata": {},
     "output_type": "execute_result"
    }
   ],
   "source": [
    "s1 = \"GGATTACCATTATGGAGGCGGA\"\n",
    "s2 = \"ACTTAGGTAGG\"\n",
    "lcs_memo(s1, s2)"
   ]
  },
  {
   "cell_type": "code",
   "execution_count": null,
   "metadata": {},
   "outputs": [],
   "source": []
  }
 ],
 "metadata": {
  "kernelspec": {
   "display_name": "Python 3",
   "language": "python",
   "name": "python3"
  },
  "language_info": {
   "codemirror_mode": {
    "name": "ipython",
    "version": 3
   },
   "file_extension": ".py",
   "mimetype": "text/x-python",
   "name": "python",
   "nbconvert_exporter": "python",
   "pygments_lexer": "ipython3",
   "version": "3.12.5"
  }
 },
 "nbformat": 4,
 "nbformat_minor": 2
}
