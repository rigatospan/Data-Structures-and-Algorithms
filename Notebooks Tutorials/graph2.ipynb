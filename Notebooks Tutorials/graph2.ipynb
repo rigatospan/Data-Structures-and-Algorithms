{
 "cells": [
  {
   "cell_type": "markdown",
   "metadata": {},
   "source": [
    "## Minimum Spanning Tree (MST)\n",
    "\n",
    "Given un undirected, connected, weighted graph $G(V,E)$ we want to find an uncycled subset $T\\subseteq E$ such that all vertices are connected.\n",
    "$T$ is by definition a tree, called a spanning tree of graph $G$, and if also require the same of all weight edges in $T$ to be the minimum, it is called the minimum spanning tree.\n",
    "$$w(T) = \\sum\\limits_{(u,v)\\in T} w(u,v) $$\n",
    "To determine the minimum spanning tree two main algorithms exist:\n",
    "- Prim's Algorithm\n",
    "- Krustal's Algorithm  \n",
    "Both of thsese algorithms are Greedy algorithm, since ar every step they make the best choise in order to achieve a best overall choise."
   ]
  },
  {
   "cell_type": "markdown",
   "metadata": {},
   "source": [
    "#### Given an undirected, weigthed graph $G(v,E)$\n",
    "- a cut $S, S-V$ partitions the vertices in $G$\n",
    "- an edge $(u,v)$ crosses the cut if $u\\in S\\,,\\,v\\in V-S$\n",
    "- a set of edges $A\\subseteq E$ is being respected by the cut if there is no edge in $A$ that crosses that cut\n",
    "- an edge is called light-edge if it has the minimum weight among the edges that crosses the cut\n",
    "- $G_A = (V,A)$ forms a forest  \n",
    "#### Given the above we can prove the theorem and the colorary:\n",
    "- Given $G(V,E)$ an undirected, weighted graph, let $A\\subseteq E$ be a subset of edges in some minimum spanning tree $T$ and $(S, V-S)$ a cut that respects $A$. Then the light-edge $(u,v)$ can be safely added to $A$, i.e. $A\\cup (u,v)$ will be subset of $T$.\n",
    "- Given $G(V,E)$ an undirected, weighted graph, let $A\\subseteq E$ be a subset of edges in some minimum spanning tree $T$ and $C=(V_C,E_C)$ be a connected component in the forest $G_A = (V,A)$. If $(u,v)$ a light-edge connecting $C$ to some other connected component of $G_A$, then $(u,v)$ is safe for $"
   ]
  },
  {
   "cell_type": "markdown",
   "metadata": {},
   "source": [
    "### Prim's Algorithm\n",
    "Given a connected, undirected, weighted graph $G(V,E)$ and a startng vertex $v_0$ that will be the root of the MST prim's algorithm operates as follows:\n",
    "- Initialize all vertices as unvisited \n",
    "- Initialize the parent of all vertices to None\n",
    "- Initialize the minimum weight of the edge connected a vertex to some vertex in the MST to Infinity, i.e. the vertices are not adjecent to the MST\n",
    "- maintain a data structure holding all vertices before they enter in some way to the MST\n",
    "- starting at the root, set its minimum_weight to 0 and extract it from the DS, i.e. added to the MST with None Parent\n",
    "- consider the adjacent nodes of the last added to MST node and if they are not visited, i.e. still in the DS, and their current minimum weight to the MST is larger than the weight of their edge weight to the last added node to MST, update their minimum weight and their parent to those of the edge with the last added node.\n",
    "- add to the MST the node with the current minimum weight and pop it out of the DS\n",
    "- terminate when then are no more nodes in the DS and all nodes have been added to the MST with some parent and the corresponding weight.  \n",
    "To extract at every iteration the node outside the MST with the current minimum weight connected it to the MST and added to it, we can either use an array $\\mathcal{O}(|V|)$, min-heap $\\mathcal{O}(\\log(|V|))$ or even better a Fibonacci-heap $\\mathcal{O}(1)$.  \n",
    "#### Here is how the pseudocode works:  \n",
    "- for $i,v\\in \\text{enumerate}(V)$:    $\\quad \\mathcal{O}(|V|)$\n",
    "  - v.parent = None\n",
    "  - v.visited = False\n",
    "  - v.min_w = Infinity  \n",
    "  - v.heap_pos = i  # store also the position of each node in the heap, so we can access\n",
    "- root.min_w = 0\n",
    "- min_heap = [v for $v\\in V$ with min_property_key the min_w attribute]\n",
    "- while min_heap:   $\\quad \\mathcal{O}(|V|)$\n",
    "  - last_node_added_mst = min_heap.extract_min()  $\\quad \\mathcal{O}(\\log(|V|))$\n",
    "  - last_node_added_mst.visited = Ture\n",
    "  - for adj_node in AdjList(last_node_added_mst):  $\\quad \\mathcal{O}(|E|)$ in total\n",
    "    - if adj_node.visited == False and adj_node.min_w > weight(last_node_added_mst, adj_node)    \n",
    "    $\\quad \\mathcal{O}(1)$    (since we store the attributes)\n",
    "      - adj_node.parent = last_node_added\n",
    "      - adj_node.min_w = weight(last_node_adde_mst, adj_node)\n",
    "      - min_heap.bubble_up(adj_node.min_w)  $\\quad \\mathcal{O}(\\log(|V|))$\n",
    "\n",
    "- The total time complexity is:\n",
    "$$ \\mathcal{O}(|V|\\log(|V|)+|E|\\log(|V|)) = \\mathcal{O}(|E|\\log(|V|)) $$\n",
    "- space complexity is $\\mathcal{O}(|V|)$ since we keep a min_heap, the visited and parent attributes all of size $|V|$"
   ]
  },
  {
   "cell_type": "code",
   "execution_count": 1,
   "metadata": {},
   "outputs": [],
   "source": [
    "class GraphAdjList:\n",
    "    \n",
    "    def __init__(self, size: int, directed: bool = False, weighted: bool = False):\n",
    "        self.size = size\n",
    "        self.adj_list = [set() for _ in range(size)]\n",
    "        self.vertex_data = [None]*self.size\n",
    "        self.directed = directed\n",
    "        self.weighted = weighted\n",
    "        \n",
    "    def add_edge(self, u:int, v:int, w = 1):\n",
    "        if not self.weighted:\n",
    "            w =1\n",
    "        if 0<=u<=self.size and 0<=v<=self.size:\n",
    "            self.adj_list[u].add((v, w))\n",
    "            if not self.directed:\n",
    "                self.adj_list[v].add((u, w))\n",
    "                \n",
    "    def add_vertex_data(self, vertex: int, data = None):\n",
    "        if data==None:\n",
    "            data=vertex\n",
    "\n",
    "        if 0<= vertex <=self.size:\n",
    "            self.vertex_data[vertex] = data\n",
    "            \n",
    "    def print_graph(self):\n",
    "        for vertex, nbrhs in enumerate(self.adj_list):\n",
    "            print(f\"Vertex {self.vertex_data[vertex]} is connected to {','.join([str(self.vertex_data[v]) + '-'+str(w) for (v, w) in nbrhs])}\") "
   ]
  },
  {
   "cell_type": "code",
   "execution_count": 16,
   "metadata": {},
   "outputs": [
    {
     "data": {
      "text/plain": [
       "[[0, inf, None], [1, inf, 0], [2, inf, 0]]"
      ]
     },
     "execution_count": 16,
     "metadata": {},
     "output_type": "execute_result"
    }
   ],
   "source": [
    "import heapq\n",
    "arr = [[2, float('infinity'), 0], [1, float('infinity'), 0], [0, float('infinity'), None]]\n",
    "heapq.heapify(arr)\n",
    "arr"
   ]
  },
  {
   "cell_type": "code",
   "execution_count": 2,
   "metadata": {},
   "outputs": [
    {
     "name": "stdout",
     "output_type": "stream",
     "text": [
      "Vertex 0 is connected to 7-8,1-4\n",
      "Vertex 1 is connected to 0-4,2-8\n",
      "Vertex 2 is connected to 3-7,5-4,1-8,8-2\n",
      "Vertex 3 is connected to 5-14,4-9,2-7\n",
      "Vertex 4 is connected to 5-10,3-9\n",
      "Vertex 5 is connected to 4-10,2-4,3-14,6-2\n",
      "Vertex 6 is connected to 7-1,8-6,5-2\n",
      "Vertex 7 is connected to 8-7,6-1,0-8\n",
      "Vertex 8 is connected to 6-6,7-7,2-2\n"
     ]
    }
   ],
   "source": [
    "g = GraphAdjList(9, weighted= True)\n",
    "for i in range(9):\n",
    "    g.add_vertex_data(i, str(i))\n",
    "\n",
    "g.add_edge(0, 1, 4)\n",
    "g.add_edge(0, 7, 8)\n",
    "g.add_edge(1, 2, 8)\n",
    "g.add_edge(2, 3, 7)\n",
    "g.add_edge(2, 8, 2)\n",
    "g.add_edge(2, 5, 4)\n",
    "g.add_edge(3, 5, 14)\n",
    "g.add_edge(3, 4, 9)\n",
    "g.add_edge(4, 5, 10)\n",
    "g.add_edge(5, 6, 2)\n",
    "g.add_edge(6, 8, 6)\n",
    "g.add_edge(6, 7, 1)\n",
    "g.add_edge(7, 8, 7)\n",
    "g.print_graph()"
   ]
  },
  {
   "cell_type": "code",
   "execution_count": 7,
   "metadata": {},
   "outputs": [],
   "source": [
    "def prim_alg(g: GraphAdjList, root: int):\n",
    "    visited = [False]*g.size\n",
    "    parent = [None]*g.size\n",
    "    min_weights = [float('inf')]*g.size\n",
    "    min_weights[root] = 0\n",
    "    for _ in range(g.size):\n",
    "        # get the node with the min_weight that is not on the MST, i.e. not visited yet\n",
    "        node_added = min([node for node in range(g.size) if not visited[node]], key= lambda x: min_weights[x])\n",
    "        visited[node_added] = True\n",
    "        for (adj_node, w) in g.adj_list[node_added]:\n",
    "            if not visited[adj_node] and min_weights[adj_node] > w:\n",
    "                parent[adj_node] = node_added\n",
    "                min_weights[adj_node] = w\n",
    "    \n",
    "    for i, p in enumerate(parent):\n",
    "        print(f'the parent of node {i} is {p} in the MST')\n",
    "    print(f'Total weight of the MST is {sum(min_weights)}')"
   ]
  },
  {
   "cell_type": "code",
   "execution_count": 8,
   "metadata": {},
   "outputs": [
    {
     "name": "stdout",
     "output_type": "stream",
     "text": [
      "the parent of node 0 is None in the MST\n",
      "the parent of node 1 is 0 in the MST\n",
      "the parent of node 2 is 1 in the MST\n",
      "the parent of node 3 is 2 in the MST\n",
      "the parent of node 4 is 3 in the MST\n",
      "the parent of node 5 is 2 in the MST\n",
      "the parent of node 6 is 5 in the MST\n",
      "the parent of node 7 is 6 in the MST\n",
      "the parent of node 8 is 2 in the MST\n",
      "Total weight of the MST is 37\n"
     ]
    }
   ],
   "source": [
    "prim_alg(g, 0)"
   ]
  },
  {
   "cell_type": "markdown",
   "metadata": {},
   "source": [
    "### Kruskal Algorithm\n",
    "Kruskl's Algorithm takes an undirected, weighted Graph $G(V,E)$, which can be diconneced-in contrast with Prim's algorithm, and determines a MST using dijoint sets data structure.\n",
    "\n",
    "#### A disjoin sets data structure\n",
    "\n",
    "- A forest of trees $\\mathcal{F} = \\{T_i, i=1,\\dots,k\\le n \\}$ in which each element $n_i$ belongs to only one tree\n",
    "- all elements in a tree are represented by the same element, the root, i.e.  $\\forall n_j\\in T_i, \\text{repr}(n_j) = r_i = \\text{root}(T_i)$\n",
    "- the rank of a node in the tree is the height of that node, the rank of the tree is the heigh of the root\n",
    "- we can join two elements belonging to two different trees, by join the root with the smaller rank to the other root.\n",
    "- if the ranks of the two trees are the same the overall rankincrease by one \n",
    "\n",
    "#### Kruskal pseudocode\n",
    "- A = set()\n",
    "\n",
    "- for $v\\in V$: $\\quad \\mathcal{O}(|V|)$\n",
    "  - MakeSet(v)\n",
    "- sort the edges in ascending order of their weights $\\quad \\mathcal{O}(|E|\\log(|E|))$\n",
    "- for $(u,v)\\in E$: $\\quad \\mathcal{O}(|E|)$\n",
    "  - if FindSet($u$)!= Findset($v$): $\\quad \\mathcal{O}(\\log(|V|))$\n",
    "    - A.add($(u,v)$) $\\quad \\mathcal{O}(1)$\n",
    "    - Union($u,v$) $\\quad \\mathcal{O}(1)$\n",
    "- return A\n",
    "- the total time complexity is \n",
    "$$ \\mathcal{O}(|E|\\log(|E|) = \\mathcal{O}(|E|\\log(|V|)) $$"
   ]
  },
  {
   "cell_type": "code",
   "execution_count": 4,
   "metadata": {},
   "outputs": [],
   "source": [
    "class GraphAdjList:\n",
    "    \n",
    "    def __init__(self, size: int, directed: bool = False, weighted: bool = False):\n",
    "        self.size = size\n",
    "        self.adj_list = [set() for _ in range(size)]\n",
    "        self.vertex_data = [None]*self.size\n",
    "        self.directed = directed\n",
    "        self.weighted = weighted\n",
    "        \n",
    "    def add_edge(self, u:int, v:int, w = 1):\n",
    "        if not self.weighted:\n",
    "            w =1\n",
    "        if 0<=u<=self.size and 0<=v<=self.size:\n",
    "            self.adj_list[u].add((v, w))\n",
    "            if not self.directed:\n",
    "                self.adj_list[v].add((u, w))\n",
    "                \n",
    "    def add_vertex_data(self, vertex: int, data = None):\n",
    "        if data==None:\n",
    "            data=vertex\n",
    "\n",
    "        if 0<= vertex <=self.size:\n",
    "            self.vertex_data[vertex] = data\n",
    "    \n",
    "    \n",
    "    def find_root(self, parents: list, i: int):\n",
    "        '''finds and returns the representative of the node i\n",
    "        '''\n",
    "        \n",
    "        if parents[i] == i:\n",
    "            return i\n",
    "        \n",
    "        i = parents[i]\n",
    "        \n",
    "        return self.find_root(parents, i)\n",
    "        \n",
    "    \n",
    "    def union(self, parents: list, rank: list, i: int, j: int):\n",
    "        '''joins the tree of the node i with the tree of the nodej\n",
    "        '''\n",
    "        \n",
    "        # find the root of each node\n",
    "        root_i = self.find_root(parents, i)\n",
    "        root_j = self.find_root(parents, j)\n",
    "        \n",
    "        # if they belong on the same tree return\n",
    "        if root_i == root_j:\n",
    "            return \n",
    "        \n",
    "        # join the tree with the smaller rank to that of the higher\n",
    "        # the rank of the joined tree increases by one if the rank of the two trees are equal\n",
    "        if rank[root_i]>rank[root_j]:\n",
    "            parents[root_j] = root_i\n",
    "        elif rank[root_i] == rank[root_j]:\n",
    "            parents[root_j] = root_i\n",
    "            rank[root_i]+=1\n",
    "        else:\n",
    "            parents[root_i] = root_j\n",
    "            \n",
    "    \n",
    "    def kruskal(self):\n",
    "        \n",
    "        # store the edges of the mst\n",
    "        A = []\n",
    "        \n",
    "        # initialize its node as a disjoint set, i.e. its node its parent of itself\n",
    "        # initialize the rank of each node to 1\n",
    "        ranks = [1]*self.size\n",
    "        parents = [i for i in range(self.size)]\n",
    "        \n",
    "        # sort the edges in ascending order of their weights\n",
    "        edges = []\n",
    "        for vertex in range(self.size):\n",
    "            for (adj_vertex, w) in self.adj_list[vertex]:\n",
    "                edges.append((vertex, adj_vertex, w))\n",
    "                \n",
    "        edges = sorted(edges, key= lambda edge: edge[2])\n",
    "        \n",
    "        for (u, v, w) in edges:\n",
    "            if self.find_root(parents, u)!=self.find_root(parents, v):\n",
    "                A.append((u,v,w))\n",
    "                self.union(parents, ranks, u,v)\n",
    "                \n",
    "        return A    \n",
    "    \n",
    "    def print_graph(self):\n",
    "        for vertex, nbrhs in enumerate(self.adj_list):\n",
    "            print(f\"Vertex {self.vertex_data[vertex]} is connected to {','.join([str(self.vertex_data[v]) + '-'+str(w) for (v, w) in nbrhs])}\") "
   ]
  },
  {
   "cell_type": "code",
   "execution_count": 5,
   "metadata": {},
   "outputs": [
    {
     "name": "stdout",
     "output_type": "stream",
     "text": [
      "Vertex 0 is connected to 7-8,1-4\n",
      "Vertex 1 is connected to 0-4,2-8\n",
      "Vertex 2 is connected to 3-7,5-4,1-8,8-2\n",
      "Vertex 3 is connected to 5-14,4-9,2-7\n",
      "Vertex 4 is connected to 5-10,3-9\n",
      "Vertex 5 is connected to 4-10,2-4,3-14,6-2\n",
      "Vertex 6 is connected to 7-1,8-6,5-2\n",
      "Vertex 7 is connected to 8-7,6-1,0-8\n",
      "Vertex 8 is connected to 6-6,7-7,2-2\n"
     ]
    }
   ],
   "source": [
    "g = GraphAdjList(9, weighted= True)\n",
    "for i in range(9):\n",
    "    g.add_vertex_data(i, str(i))\n",
    "\n",
    "g.add_edge(0, 1, 4)\n",
    "g.add_edge(0, 7, 8)\n",
    "g.add_edge(1, 2, 8)\n",
    "g.add_edge(2, 3, 7)\n",
    "g.add_edge(2, 8, 2)\n",
    "g.add_edge(2, 5, 4)\n",
    "g.add_edge(3, 5, 14)\n",
    "g.add_edge(3, 4, 9)\n",
    "g.add_edge(4, 5, 10)\n",
    "g.add_edge(5, 6, 2)\n",
    "g.add_edge(6, 8, 6)\n",
    "g.add_edge(6, 7, 1)\n",
    "g.add_edge(7, 8, 7)\n",
    "g.print_graph()"
   ]
  },
  {
   "cell_type": "code",
   "execution_count": 11,
   "metadata": {},
   "outputs": [
    {
     "name": "stdout",
     "output_type": "stream",
     "text": [
      "Kruskal Algorithm outputs the mst \n",
      "[(6, 7, 1), (2, 8, 2), (5, 6, 2), (0, 1, 4), (2, 5, 4), (2, 3, 7), (0, 7, 8), (3, 4, 9)]\n",
      "The sum of the weights in the MST using Kruskal algorithm is 37\n"
     ]
    }
   ],
   "source": [
    "A = g.kruskal()\n",
    "print(f'Kruskal Algorithm outputs the mst \\n{A}')\n",
    "print(f'The sum of the weights in the MST using Kruskal algorithm is {sum([w for (_,_,w) in A])}')"
   ]
  }
 ],
 "metadata": {
  "kernelspec": {
   "display_name": "Python 3",
   "language": "python",
   "name": "python3"
  },
  "language_info": {
   "codemirror_mode": {
    "name": "ipython",
    "version": 3
   },
   "file_extension": ".py",
   "mimetype": "text/x-python",
   "name": "python",
   "nbconvert_exporter": "python",
   "pygments_lexer": "ipython3",
   "version": "3.10.11"
  }
 },
 "nbformat": 4,
 "nbformat_minor": 2
}
